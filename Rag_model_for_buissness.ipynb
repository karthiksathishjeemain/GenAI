{
  "cells": [
    {
      "cell_type": "markdown",
      "metadata": {
        "id": "Ow1ByUJT2XYM"
      },
      "source": [
        "# Building RAG Chatbots for Buissness with the help of LangChain, Open AI API, Pinecone DB"
      ]
    },
    {
      "cell_type": "code",
      "execution_count": 1,
      "metadata": {
        "colab": {
          "base_uri": "https://localhost:8080/"
        },
        "id": "r_worliD2XYQ",
        "outputId": "e738335a-0a77-4366-834f-016add5f65b6"
      },
      "outputs": [
        {
          "output_type": "stream",
          "name": "stdout",
          "text": [
            "\u001b[2K     \u001b[90m━━━━━━━━━━━━━━━━━━━━━━━━━━━━━━━━━━━━━━━━\u001b[0m \u001b[32m803.3/803.3 kB\u001b[0m \u001b[31m5.6 MB/s\u001b[0m eta \u001b[36m0:00:00\u001b[0m\n",
            "\u001b[2K     \u001b[90m━━━━━━━━━━━━━━━━━━━━━━━━━━━━━━━━━━━━━━━━\u001b[0m \u001b[32m225.4/225.4 kB\u001b[0m \u001b[31m6.9 MB/s\u001b[0m eta \u001b[36m0:00:00\u001b[0m\n",
            "\u001b[2K     \u001b[90m━━━━━━━━━━━━━━━━━━━━━━━━━━━━━━━━━━━━━━━━\u001b[0m \u001b[32m211.0/211.0 kB\u001b[0m \u001b[31m6.3 MB/s\u001b[0m eta \u001b[36m0:00:00\u001b[0m\n",
            "\u001b[2K     \u001b[90m━━━━━━━━━━━━━━━━━━━━━━━━━━━━━━━━━━━━━━━━\u001b[0m \u001b[32m2.0/2.0 MB\u001b[0m \u001b[31m12.4 MB/s\u001b[0m eta \u001b[36m0:00:00\u001b[0m\n",
            "\u001b[2K     \u001b[90m━━━━━━━━━━━━━━━━━━━━━━━━━━━━━━━━━━━━━━━━\u001b[0m \u001b[32m1.8/1.8 MB\u001b[0m \u001b[31m18.0 MB/s\u001b[0m eta \u001b[36m0:00:00\u001b[0m\n",
            "\u001b[2K     \u001b[90m━━━━━━━━━━━━━━━━━━━━━━━━━━━━━━━━━━━━━━━━\u001b[0m \u001b[32m269.1/269.1 kB\u001b[0m \u001b[31m14.0 MB/s\u001b[0m eta \u001b[36m0:00:00\u001b[0m\n",
            "\u001b[2K     \u001b[90m━━━━━━━━━━━━━━━━━━━━━━━━━━━━━━━━━━━━━━━━\u001b[0m \u001b[32m56.5/56.5 kB\u001b[0m \u001b[31m3.2 MB/s\u001b[0m eta \u001b[36m0:00:00\u001b[0m\n",
            "\u001b[2K     \u001b[90m━━━━━━━━━━━━━━━━━━━━━━━━━━━━━━━━━━━━━━━━\u001b[0m \u001b[32m75.6/75.6 kB\u001b[0m \u001b[31m6.0 MB/s\u001b[0m eta \u001b[36m0:00:00\u001b[0m\n",
            "\u001b[2K     \u001b[90m━━━━━━━━━━━━━━━━━━━━━━━━━━━━━━━━━━━━━━━━\u001b[0m \u001b[32m49.4/49.4 kB\u001b[0m \u001b[31m2.8 MB/s\u001b[0m eta \u001b[36m0:00:00\u001b[0m\n",
            "\u001b[2K     \u001b[90m━━━━━━━━━━━━━━━━━━━━━━━━━━━━━━━━━━━━━━━━\u001b[0m \u001b[32m77.8/77.8 kB\u001b[0m \u001b[31m2.9 MB/s\u001b[0m eta \u001b[36m0:00:00\u001b[0m\n",
            "\u001b[2K     \u001b[90m━━━━━━━━━━━━━━━━━━━━━━━━━━━━━━━━━━━━━━━━\u001b[0m \u001b[32m58.3/58.3 kB\u001b[0m \u001b[31m2.4 MB/s\u001b[0m eta \u001b[36m0:00:00\u001b[0m\n",
            "\u001b[2K     \u001b[90m━━━━━━━━━━━━━━━━━━━━━━━━━━━━━━━━━━━━━━━━\u001b[0m \u001b[32m1.8/1.8 MB\u001b[0m \u001b[31m21.8 MB/s\u001b[0m eta \u001b[36m0:00:00\u001b[0m\n",
            "\u001b[2K     \u001b[90m━━━━━━━━━━━━━━━━━━━━━━━━━━━━━━━━━━━━━━━━\u001b[0m \u001b[32m1.8/1.8 MB\u001b[0m \u001b[31m26.4 MB/s\u001b[0m eta \u001b[36m0:00:00\u001b[0m\n",
            "\u001b[2K     \u001b[90m━━━━━━━━━━━━━━━━━━━━━━━━━━━━━━━━━━━━━━━━\u001b[0m \u001b[32m1.8/1.8 MB\u001b[0m \u001b[31m31.0 MB/s\u001b[0m eta \u001b[36m0:00:00\u001b[0m\n",
            "\u001b[2K     \u001b[90m━━━━━━━━━━━━━━━━━━━━━━━━━━━━━━━━━━━━━━━━\u001b[0m \u001b[32m1.8/1.8 MB\u001b[0m \u001b[31m32.0 MB/s\u001b[0m eta \u001b[36m0:00:00\u001b[0m\n",
            "\u001b[2K     \u001b[90m━━━━━━━━━━━━━━━━━━━━━━━━━━━━━━━━━━━━━━━━\u001b[0m \u001b[32m1.7/1.7 MB\u001b[0m \u001b[31m40.8 MB/s\u001b[0m eta \u001b[36m0:00:00\u001b[0m\n",
            "\u001b[2K     \u001b[90m━━━━━━━━━━━━━━━━━━━━━━━━━━━━━━━━━━━━━━━━\u001b[0m \u001b[32m1.7/1.7 MB\u001b[0m \u001b[31m34.8 MB/s\u001b[0m eta \u001b[36m0:00:00\u001b[0m\n",
            "\u001b[2K     \u001b[90m━━━━━━━━━━━━━━━━━━━━━━━━━━━━━━━━━━━━━━━━\u001b[0m \u001b[32m1.7/1.7 MB\u001b[0m \u001b[31m37.0 MB/s\u001b[0m eta \u001b[36m0:00:00\u001b[0m\n",
            "\u001b[2K     \u001b[90m━━━━━━━━━━━━━━━━━━━━━━━━━━━━━━━━━━━━━━━━\u001b[0m \u001b[32m1.7/1.7 MB\u001b[0m \u001b[31m29.5 MB/s\u001b[0m eta \u001b[36m0:00:00\u001b[0m\n",
            "\u001b[2K     \u001b[90m━━━━━━━━━━━━━━━━━━━━━━━━━━━━━━━━━━━━━━━━\u001b[0m \u001b[32m1.7/1.7 MB\u001b[0m \u001b[31m31.0 MB/s\u001b[0m eta \u001b[36m0:00:00\u001b[0m\n",
            "\u001b[2K     \u001b[90m━━━━━━━━━━━━━━━━━━━━━━━━━━━━━━━━━━━━━━━━\u001b[0m \u001b[32m260.9/260.9 kB\u001b[0m \u001b[31m16.4 MB/s\u001b[0m eta \u001b[36m0:00:00\u001b[0m\n",
            "\u001b[2K     \u001b[90m━━━━━━━━━━━━━━━━━━━━━━━━━━━━━━━━━━━━━━━━\u001b[0m \u001b[32m258.8/258.8 kB\u001b[0m \u001b[31m9.5 MB/s\u001b[0m eta \u001b[36m0:00:00\u001b[0m\n",
            "\u001b[2K     \u001b[90m━━━━━━━━━━━━━━━━━━━━━━━━━━━━━━━━━━━━━━━━\u001b[0m \u001b[32m256.9/256.9 kB\u001b[0m \u001b[31m15.5 MB/s\u001b[0m eta \u001b[36m0:00:00\u001b[0m\n",
            "\u001b[2K     \u001b[90m━━━━━━━━━━━━━━━━━━━━━━━━━━━━━━━━━━━━━━━━\u001b[0m \u001b[32m252.6/252.6 kB\u001b[0m \u001b[31m19.5 MB/s\u001b[0m eta \u001b[36m0:00:00\u001b[0m\n",
            "\u001b[2K     \u001b[90m━━━━━━━━━━━━━━━━━━━━━━━━━━━━━━━━━━━━━━━━\u001b[0m \u001b[32m252.4/252.4 kB\u001b[0m \u001b[31m17.3 MB/s\u001b[0m eta \u001b[36m0:00:00\u001b[0m\n",
            "\u001b[2K     \u001b[90m━━━━━━━━━━━━━━━━━━━━━━━━━━━━━━━━━━━━━━━━\u001b[0m \u001b[32m250.8/250.8 kB\u001b[0m \u001b[31m13.6 MB/s\u001b[0m eta \u001b[36m0:00:00\u001b[0m\n",
            "\u001b[2K     \u001b[90m━━━━━━━━━━━━━━━━━━━━━━━━━━━━━━━━━━━━━━━━\u001b[0m \u001b[32m246.4/246.4 kB\u001b[0m \u001b[31m15.3 MB/s\u001b[0m eta \u001b[36m0:00:00\u001b[0m\n",
            "\u001b[2K     \u001b[90m━━━━━━━━━━━━━━━━━━━━━━━━━━━━━━━━━━━━━━━━\u001b[0m \u001b[32m242.1/242.1 kB\u001b[0m \u001b[31m15.9 MB/s\u001b[0m eta \u001b[36m0:00:00\u001b[0m\n",
            "\u001b[2K     \u001b[90m━━━━━━━━━━━━━━━━━━━━━━━━━━━━━━━━━━━━━━━━\u001b[0m \u001b[32m241.3/241.3 kB\u001b[0m \u001b[31m5.0 MB/s\u001b[0m eta \u001b[36m0:00:00\u001b[0m\n",
            "\u001b[2K     \u001b[90m━━━━━━━━━━━━━━━━━━━━━━━━━━━━━━━━━━━━━━━━\u001b[0m \u001b[32m241.2/241.2 kB\u001b[0m \u001b[31m6.3 MB/s\u001b[0m eta \u001b[36m0:00:00\u001b[0m\n",
            "\u001b[2K     \u001b[90m━━━━━━━━━━━━━━━━━━━━━━━━━━━━━━━━━━━━━━━━\u001b[0m \u001b[32m55.4/55.4 kB\u001b[0m \u001b[31m3.7 MB/s\u001b[0m eta \u001b[36m0:00:00\u001b[0m\n",
            "\u001b[2K     \u001b[90m━━━━━━━━━━━━━━━━━━━━━━━━━━━━━━━━━━━━━━━━\u001b[0m \u001b[32m53.0/53.0 kB\u001b[0m \u001b[31m3.8 MB/s\u001b[0m eta \u001b[36m0:00:00\u001b[0m\n",
            "\u001b[?25h"
          ]
        }
      ],
      "source": [
        "!pip install -qU \\\n",
        "    langchain==0.0.354 \\\n",
        "    openai==1.6.1 \\\n",
        "    pinecone-client==3.1.0 \\\n",
        "    tiktoken==0.5.2"
      ]
    },
    {
      "cell_type": "code",
      "execution_count": 2,
      "metadata": {
        "colab": {
          "base_uri": "https://localhost:8080/"
        },
        "id": "RWBie6N12XYV",
        "outputId": "d28faff7-db66-41aa-cd2c-207287a1a5b4"
      },
      "outputs": [
        {
          "output_type": "stream",
          "name": "stderr",
          "text": [
            "/usr/local/lib/python3.10/dist-packages/langchain_core/_api/deprecation.py:117: LangChainDeprecationWarning: The class `langchain_community.chat_models.openai.ChatOpenAI` was deprecated in langchain-community 0.0.10 and will be removed in 0.2.0. An updated version of the class exists in the langchain-openai package and should be used instead. To use it run `pip install -U langchain-openai` and import as `from langchain_openai import ChatOpenAI`.\n",
            "  warn_deprecated(\n"
          ]
        }
      ],
      "source": [
        "import os\n",
        "from langchain.chat_models import ChatOpenAI\n",
        "\n",
        "os.environ[\"OPENAI_API_KEY\"] = os.getenv(\"OPENAI_API_KEY\") or \"Replace with your OpenAI API Key\"\n",
        "\n",
        "chat = ChatOpenAI(\n",
        "    openai_api_key=os.environ[\"OPENAI_API_KEY\"],\n",
        "    model='gpt-3.5-turbo'\n",
        ")"
      ]
    },
    {
      "cell_type": "code",
      "execution_count": 5,
      "metadata": {
        "id": "zAK9-_Rj2XYX"
      },
      "outputs": [],
      "source": [
        "from langchain.schema import (\n",
        "    SystemMessage,\n",
        "    HumanMessage,\n",
        "    AIMessage\n",
        ")\n",
        "\n",
        "messages = [\n",
        "    SystemMessage(content=\"You are a helpful bussiness assistant.\"),\n",
        "    HumanMessage(content=\"Hi AI, how are you today?\"),\n",
        "    AIMessage(content=\"I am doing great. How can I help you today?\")\n",
        "    ]"
      ]
    },
    {
      "cell_type": "code",
      "source": [
        "res=chat(messages)\n",
        "res"
      ],
      "metadata": {
        "colab": {
          "base_uri": "https://localhost:8080/"
        },
        "id": "xkENiuzmWsE-",
        "outputId": "4d219f03-65b3-4092-98e3-0de3e99cbcc6"
      },
      "execution_count": 6,
      "outputs": [
        {
          "output_type": "stream",
          "name": "stderr",
          "text": [
            "/usr/local/lib/python3.10/dist-packages/langchain_core/_api/deprecation.py:117: LangChainDeprecationWarning: The function `__call__` was deprecated in LangChain 0.1.7 and will be removed in 0.2.0. Use invoke instead.\n",
            "  warn_deprecated(\n"
          ]
        },
        {
          "output_type": "execute_result",
          "data": {
            "text/plain": [
              "AIMessage(content='Hello! How can I assist you today?')"
            ]
          },
          "metadata": {},
          "execution_count": 6
        }
      ]
    },
    {
      "cell_type": "markdown",
      "metadata": {
        "id": "8WZi3ysT2XYc"
      },
      "source": [
        "Let us ask a question on Yardstick AI before training the model"
      ]
    },
    {
      "cell_type": "code",
      "execution_count": 7,
      "metadata": {
        "id": "FU6UOjWw2XYe"
      },
      "outputs": [],
      "source": [
        "# add latest AI response to messages\n",
        "messages.append(res)\n",
        "\n",
        "# now create a new user prompt\n",
        "prompt = HumanMessage(\n",
        "    content=\"Can you tell me about the Yardstick AI company?\"\n",
        ")\n",
        "# add to messages\n",
        "messages.append(prompt)\n",
        "\n",
        "# send to OpenAI\n",
        "res = chat(messages)"
      ]
    },
    {
      "cell_type": "code",
      "execution_count": null,
      "metadata": {
        "colab": {
          "base_uri": "https://localhost:8080/"
        },
        "id": "MYp1BDt42XYe",
        "outputId": "a0465451-8888-4394-d13b-8bf7762c3b9b"
      },
      "outputs": [
        {
          "output_type": "stream",
          "name": "stdout",
          "text": [
            "I'm sorry, but I don't have specific information about a company named Yardstick AI. If you provide me with more details or context about the company, I can try to assist you further. Alternatively, you can search for information about Yardstick AI online to learn more about their products, services, and offerings.\n"
          ]
        }
      ],
      "source": [
        "print(res.content)"
      ]
    },
    {
      "cell_type": "markdown",
      "metadata": {
        "id": "8LYI8p9_2XYe"
      },
      "source": [
        "It failed to fetch the details of the company as it has  knowledge limited to that of 2021"
      ]
    },
    {
      "cell_type": "markdown",
      "metadata": {
        "id": "zFneCGmY2XYf"
      },
      "source": [
        "So, firstly we will train the model on Yardstick AI and then on it will act as an Buissness Assistant, answering the relevent doubt for the user.\n",
        "We do so by retriving the contents from it's website"
      ]
    },
    {
      "cell_type": "markdown",
      "metadata": {
        "id": "9QdonqLr2XYh"
      },
      "source": [
        "### Importing the Data"
      ]
    },
    {
      "cell_type": "code",
      "source": [
        "import requests\n",
        "import re\n",
        "import urllib.request\n",
        "from bs4 import BeautifulSoup\n",
        "from collections import deque\n",
        "from html.parser import HTMLParser\n",
        "from urllib.parse import urlparse\n",
        "import os\n",
        "\n",
        "# Regex pattern to match a URL\n",
        "HTTP_URL_PATTERN = r'^http[s]*://.+'\n",
        "\n",
        "# Define root domain to crawl\n",
        "domain = \"www.yardstick.live\"\n",
        "full_url = \"https://www.yardstick.live/\"\n",
        "\n",
        "# Create a class to parse the HTML and get the hyperlinks\n",
        "class HyperlinkParser(HTMLParser):\n",
        "    def __init__(self):\n",
        "        super().__init__()\n",
        "        # Create a list to store the hyperlinks\n",
        "        self.hyperlinks = []\n",
        "\n",
        "    # Override the HTMLParser's handle_starttag method to get the hyperlinks\n",
        "    def handle_starttag(self, tag, attrs):\n",
        "        attrs = dict(attrs)\n",
        "\n",
        "        # If the tag is an anchor tag and it has an href attribute, add the href attribute to the list of hyperlinks\n",
        "        if tag == \"a\" and \"href\" in attrs:\n",
        "            self.hyperlinks.append(attrs[\"href\"])\n",
        "\n",
        "# Function to get the hyperlinks from a URL\n",
        "def get_hyperlinks(url):\n",
        "\n",
        "    # Try to open the URL and read the HTML\n",
        "    try:\n",
        "        # Open the URL and read the HTML\n",
        "        with urllib.request.urlopen(url) as response:\n",
        "\n",
        "            # If the response is not HTML, return an empty list\n",
        "            if not response.info().get('Content-Type').startswith(\"text/html\"):\n",
        "                return []\n",
        "\n",
        "            # Decode the HTML\n",
        "            html = response.read().decode('utf-8')\n",
        "    except Exception as e:\n",
        "        print(e)\n",
        "        return []\n",
        "\n",
        "    # Create the HTML Parser and then Parse the HTML to get hyperlinks\n",
        "    parser = HyperlinkParser()\n",
        "    parser.feed(html)\n",
        "\n",
        "    return parser.hyperlinks\n",
        "\n",
        "# Function to get the hyperlinks from a URL that are within the same domain\n",
        "def get_domain_hyperlinks(local_domain, url):\n",
        "    clean_links = []\n",
        "    for link in set(get_hyperlinks(url)):\n",
        "        clean_link = None\n",
        "\n",
        "        # If the link is a URL, check if it is within the same domain\n",
        "        if re.search(HTTP_URL_PATTERN, link):\n",
        "            # Parse the URL and check if the domain is the same\n",
        "            url_obj = urlparse(link)\n",
        "            if url_obj.netloc == local_domain:\n",
        "                clean_link = link\n",
        "\n",
        "        # If the link is not a URL, check if it is a relative link\n",
        "        else:\n",
        "            if link.startswith(\"/\"):\n",
        "                link = link[1:]\n",
        "            elif link.startswith(\"#\") or link.startswith(\"mailto:\"):\n",
        "                continue\n",
        "            clean_link = \"https://\" + local_domain + \"/\" + link\n",
        "\n",
        "        if clean_link is not None:\n",
        "            if clean_link.endswith(\"/\"):\n",
        "                clean_link = clean_link[:-1]\n",
        "            clean_links.append(clean_link)\n",
        "\n",
        "    # Return the list of hyperlinks that are within the same domain\n",
        "    return list(set(clean_links))\n",
        "\n",
        "\n",
        "def crawl(url):\n",
        "    # Parse the URL and get the domain\n",
        "    local_domain = urlparse(url).netloc\n",
        "\n",
        "    # Create a queue to store the URLs to crawl\n",
        "    queue = deque([url])\n",
        "\n",
        "    # Create a set to store the URLs that have already been seen (no duplicates)\n",
        "    seen = set([url])\n",
        "\n",
        "    # Create a directory to store the text files\n",
        "    if not os.path.exists(\"text/\"):\n",
        "            os.mkdir(\"text/\")\n",
        "\n",
        "    if not os.path.exists(\"text/\"+local_domain+\"/\"):\n",
        "            os.mkdir(\"text/\" + local_domain + \"/\")\n",
        "\n",
        "    # Create a directory to store the csv files\n",
        "    if not os.path.exists(\"processed\"):\n",
        "            os.mkdir(\"processed\")\n",
        "\n",
        "    # While the queue is not empty, continue crawling\n",
        "    while queue:\n",
        "\n",
        "        # Get the next URL from the queue\n",
        "        url = queue.pop()\n",
        "        print(url) # for debugging and to see the progress\n",
        "\n",
        "        # Save text from the url to a <url>.txt file\n",
        "        with open('text/'+local_domain+'/'+url[8:].replace(\"/\", \"_\") + \".txt\", \"w\") as f:\n",
        "\n",
        "            # Get the text from the URL using BeautifulSoup\n",
        "            soup = BeautifulSoup(requests.get(url).text, \"html.parser\")\n",
        "\n",
        "            # Get the text but remove the tags\n",
        "            text = soup.get_text()\n",
        "\n",
        "            # If the crawler gets to a page that requires JavaScript, it will stop the crawl\n",
        "            if (\"You need to enable JavaScript to run this app.\" in text):\n",
        "                print(\"Unable to parse page \" + url + \" due to JavaScript being required\")\n",
        "\n",
        "            # Otherwise, write the text to the file in the text directory\n",
        "            f.write(text)\n",
        "\n",
        "        # Get the hyperlinks from the URL and add them to the queue\n",
        "        for link in get_domain_hyperlinks(local_domain, url):\n",
        "            if link not in seen:\n",
        "                queue.append(link)\n",
        "                seen.add(link)\n",
        "\n",
        "crawl(full_url)"
      ],
      "metadata": {
        "colab": {
          "base_uri": "https://localhost:8080/"
        },
        "id": "_9OeB3JKJqpU",
        "outputId": "6f5f0c39-f9c1-4a28-a1d6-73d3402f97d5"
      },
      "execution_count": 8,
      "outputs": [
        {
          "output_type": "stream",
          "name": "stdout",
          "text": [
            "https://www.yardstick.live/\n",
            "https://www.yardstick.live/#contact\n",
            "https://www.yardstick.live\n",
            "https://www.yardstick.live/#about\n",
            "https://www.yardstick.live/#projects\n",
            "https://www.yardstick.live/blog\n",
            "https://www.yardstick.live/blog/Latest-news-articles-in-AI\n",
            "https://www.yardstick.live/blog/Latest-news-articles-in-AI/Competition-in-AI-Video-Generation-Heats-Up-as-DeepMind-Alums-Unveil-Haiper\n",
            "https://www.yardstick.live/blog/Latest-news-articles-in-AI/Ema-a-Universal-AI-Employee-Emerges-from-Stealth-with-25M\n",
            "https://www.yardstick.live/blog/Latest-news-articles-in-AI/The-Betrayal-of-a-Vision-Elon-Musk's-Legal-Battle-with-OpenAI-and-Sam-Altman\n",
            "https://www.yardstick.live/blog/Latest-news-articles-in-AI/India's-New-AI-Regulation-Sparks-Controversy-A-Deep-Dive-into-the-Reversal\n",
            "https://www.yardstick.live/#home\n",
            "https://www.yardstick.live/project/ayodhya-gpt\n",
            "https://www.yardstick.live/tel://+917891053001\n",
            "HTTP Error 308: Permanent Redirect\n"
          ]
        }
      ]
    },
    {
      "cell_type": "code",
      "source": [
        "def remove_newlines(serie):\n",
        "    serie = serie.str.replace('\\n', ' ')\n",
        "    serie = serie.str.replace('\\\\n', ' ')\n",
        "    serie = serie.str.replace('  ', ' ')\n",
        "    serie = serie.str.replace('  ', ' ')\n",
        "    return serie"
      ],
      "metadata": {
        "id": "OOpyynuYKFd9"
      },
      "execution_count": 9,
      "outputs": []
    },
    {
      "cell_type": "code",
      "source": [
        "import pandas as pd\n",
        "\n",
        "# Create a list to store the text files\n",
        "texts=[]\n",
        "\n",
        "# Get all the text files in the text directory\n",
        "for file in os.listdir(\"text/\" +domain + \"/\"):\n",
        "\n",
        "    # Open the file and read the text\n",
        "    with open(\"text/\" + domain + \"/\" + file, \"r\") as f:\n",
        "        text = f.read()\n",
        "\n",
        "        # Omit the first 11 lines and the last 4 lines, then replace -, _, and #update with spaces.\n",
        "        texts.append((file[11:-4].replace('-',' ').replace('_', ' ').replace('#update',''), text))\n",
        "\n",
        "# Create a dataframe from the list of texts\n",
        "df = pd.DataFrame(texts, columns = ['fname', 'text'])\n",
        "\n",
        "# Set the text column to be the raw text with the newlines removed\n",
        "df['text'] = df.fname + \". \" + remove_newlines(df.text)\n",
        "df.to_csv('processed/scraped.csv')\n",
        "df.head()\n"
      ],
      "metadata": {
        "colab": {
          "base_uri": "https://localhost:8080/",
          "height": 242
        },
        "id": "BGAh4U8UKPhu",
        "outputId": "55f3f2a2-8a71-4114-bcc0-f11332ecb5f8"
      },
      "execution_count": 10,
      "outputs": [
        {
          "output_type": "stream",
          "name": "stderr",
          "text": [
            "<ipython-input-9-429202555403>:3: FutureWarning: The default value of regex will change from True to False in a future version.\n",
            "  serie = serie.str.replace('\\\\n', ' ')\n"
          ]
        },
        {
          "output_type": "execute_result",
          "data": {
            "text/plain": [
              "                                               fname  \\\n",
              "0                                  ck.live #projects   \n",
              "1                        ck.live project ayodhya gpt   \n",
              "2  ck.live blog Latest news articles in AI The Be...   \n",
              "3                                       ck.live blog   \n",
              "4                                            ck.live   \n",
              "\n",
              "                                                text  \n",
              "0  ck.live #projects. Yardstick AIYardstick AIHom...  \n",
              "1  ck.live project ayodhya gpt. Blog Details Page...  \n",
              "2  ck.live blog Latest news articles in AI The Be...  \n",
              "3  ck.live blog. BlogYardstick AIHomeAboutProject...  \n",
              "4  ck.live. Yardstick AIYardstick AIHomeAboutProj...  "
            ],
            "text/html": [
              "\n",
              "  <div id=\"df-285e07e7-c0ae-4c59-9f49-28eb4a6dda7b\" class=\"colab-df-container\">\n",
              "    <div>\n",
              "<style scoped>\n",
              "    .dataframe tbody tr th:only-of-type {\n",
              "        vertical-align: middle;\n",
              "    }\n",
              "\n",
              "    .dataframe tbody tr th {\n",
              "        vertical-align: top;\n",
              "    }\n",
              "\n",
              "    .dataframe thead th {\n",
              "        text-align: right;\n",
              "    }\n",
              "</style>\n",
              "<table border=\"1\" class=\"dataframe\">\n",
              "  <thead>\n",
              "    <tr style=\"text-align: right;\">\n",
              "      <th></th>\n",
              "      <th>fname</th>\n",
              "      <th>text</th>\n",
              "    </tr>\n",
              "  </thead>\n",
              "  <tbody>\n",
              "    <tr>\n",
              "      <th>0</th>\n",
              "      <td>ck.live #projects</td>\n",
              "      <td>ck.live #projects. Yardstick AIYardstick AIHom...</td>\n",
              "    </tr>\n",
              "    <tr>\n",
              "      <th>1</th>\n",
              "      <td>ck.live project ayodhya gpt</td>\n",
              "      <td>ck.live project ayodhya gpt. Blog Details Page...</td>\n",
              "    </tr>\n",
              "    <tr>\n",
              "      <th>2</th>\n",
              "      <td>ck.live blog Latest news articles in AI The Be...</td>\n",
              "      <td>ck.live blog Latest news articles in AI The Be...</td>\n",
              "    </tr>\n",
              "    <tr>\n",
              "      <th>3</th>\n",
              "      <td>ck.live blog</td>\n",
              "      <td>ck.live blog. BlogYardstick AIHomeAboutProject...</td>\n",
              "    </tr>\n",
              "    <tr>\n",
              "      <th>4</th>\n",
              "      <td>ck.live</td>\n",
              "      <td>ck.live. Yardstick AIYardstick AIHomeAboutProj...</td>\n",
              "    </tr>\n",
              "  </tbody>\n",
              "</table>\n",
              "</div>\n",
              "    <div class=\"colab-df-buttons\">\n",
              "\n",
              "  <div class=\"colab-df-container\">\n",
              "    <button class=\"colab-df-convert\" onclick=\"convertToInteractive('df-285e07e7-c0ae-4c59-9f49-28eb4a6dda7b')\"\n",
              "            title=\"Convert this dataframe to an interactive table.\"\n",
              "            style=\"display:none;\">\n",
              "\n",
              "  <svg xmlns=\"http://www.w3.org/2000/svg\" height=\"24px\" viewBox=\"0 -960 960 960\">\n",
              "    <path d=\"M120-120v-720h720v720H120Zm60-500h600v-160H180v160Zm220 220h160v-160H400v160Zm0 220h160v-160H400v160ZM180-400h160v-160H180v160Zm440 0h160v-160H620v160ZM180-180h160v-160H180v160Zm440 0h160v-160H620v160Z\"/>\n",
              "  </svg>\n",
              "    </button>\n",
              "\n",
              "  <style>\n",
              "    .colab-df-container {\n",
              "      display:flex;\n",
              "      gap: 12px;\n",
              "    }\n",
              "\n",
              "    .colab-df-convert {\n",
              "      background-color: #E8F0FE;\n",
              "      border: none;\n",
              "      border-radius: 50%;\n",
              "      cursor: pointer;\n",
              "      display: none;\n",
              "      fill: #1967D2;\n",
              "      height: 32px;\n",
              "      padding: 0 0 0 0;\n",
              "      width: 32px;\n",
              "    }\n",
              "\n",
              "    .colab-df-convert:hover {\n",
              "      background-color: #E2EBFA;\n",
              "      box-shadow: 0px 1px 2px rgba(60, 64, 67, 0.3), 0px 1px 3px 1px rgba(60, 64, 67, 0.15);\n",
              "      fill: #174EA6;\n",
              "    }\n",
              "\n",
              "    .colab-df-buttons div {\n",
              "      margin-bottom: 4px;\n",
              "    }\n",
              "\n",
              "    [theme=dark] .colab-df-convert {\n",
              "      background-color: #3B4455;\n",
              "      fill: #D2E3FC;\n",
              "    }\n",
              "\n",
              "    [theme=dark] .colab-df-convert:hover {\n",
              "      background-color: #434B5C;\n",
              "      box-shadow: 0px 1px 3px 1px rgba(0, 0, 0, 0.15);\n",
              "      filter: drop-shadow(0px 1px 2px rgba(0, 0, 0, 0.3));\n",
              "      fill: #FFFFFF;\n",
              "    }\n",
              "  </style>\n",
              "\n",
              "    <script>\n",
              "      const buttonEl =\n",
              "        document.querySelector('#df-285e07e7-c0ae-4c59-9f49-28eb4a6dda7b button.colab-df-convert');\n",
              "      buttonEl.style.display =\n",
              "        google.colab.kernel.accessAllowed ? 'block' : 'none';\n",
              "\n",
              "      async function convertToInteractive(key) {\n",
              "        const element = document.querySelector('#df-285e07e7-c0ae-4c59-9f49-28eb4a6dda7b');\n",
              "        const dataTable =\n",
              "          await google.colab.kernel.invokeFunction('convertToInteractive',\n",
              "                                                    [key], {});\n",
              "        if (!dataTable) return;\n",
              "\n",
              "        const docLinkHtml = 'Like what you see? Visit the ' +\n",
              "          '<a target=\"_blank\" href=https://colab.research.google.com/notebooks/data_table.ipynb>data table notebook</a>'\n",
              "          + ' to learn more about interactive tables.';\n",
              "        element.innerHTML = '';\n",
              "        dataTable['output_type'] = 'display_data';\n",
              "        await google.colab.output.renderOutput(dataTable, element);\n",
              "        const docLink = document.createElement('div');\n",
              "        docLink.innerHTML = docLinkHtml;\n",
              "        element.appendChild(docLink);\n",
              "      }\n",
              "    </script>\n",
              "  </div>\n",
              "\n",
              "\n",
              "<div id=\"df-8aabbc5e-c069-4b12-bc3b-b4bfdf5410aa\">\n",
              "  <button class=\"colab-df-quickchart\" onclick=\"quickchart('df-8aabbc5e-c069-4b12-bc3b-b4bfdf5410aa')\"\n",
              "            title=\"Suggest charts\"\n",
              "            style=\"display:none;\">\n",
              "\n",
              "<svg xmlns=\"http://www.w3.org/2000/svg\" height=\"24px\"viewBox=\"0 0 24 24\"\n",
              "     width=\"24px\">\n",
              "    <g>\n",
              "        <path d=\"M19 3H5c-1.1 0-2 .9-2 2v14c0 1.1.9 2 2 2h14c1.1 0 2-.9 2-2V5c0-1.1-.9-2-2-2zM9 17H7v-7h2v7zm4 0h-2V7h2v10zm4 0h-2v-4h2v4z\"/>\n",
              "    </g>\n",
              "</svg>\n",
              "  </button>\n",
              "\n",
              "<style>\n",
              "  .colab-df-quickchart {\n",
              "      --bg-color: #E8F0FE;\n",
              "      --fill-color: #1967D2;\n",
              "      --hover-bg-color: #E2EBFA;\n",
              "      --hover-fill-color: #174EA6;\n",
              "      --disabled-fill-color: #AAA;\n",
              "      --disabled-bg-color: #DDD;\n",
              "  }\n",
              "\n",
              "  [theme=dark] .colab-df-quickchart {\n",
              "      --bg-color: #3B4455;\n",
              "      --fill-color: #D2E3FC;\n",
              "      --hover-bg-color: #434B5C;\n",
              "      --hover-fill-color: #FFFFFF;\n",
              "      --disabled-bg-color: #3B4455;\n",
              "      --disabled-fill-color: #666;\n",
              "  }\n",
              "\n",
              "  .colab-df-quickchart {\n",
              "    background-color: var(--bg-color);\n",
              "    border: none;\n",
              "    border-radius: 50%;\n",
              "    cursor: pointer;\n",
              "    display: none;\n",
              "    fill: var(--fill-color);\n",
              "    height: 32px;\n",
              "    padding: 0;\n",
              "    width: 32px;\n",
              "  }\n",
              "\n",
              "  .colab-df-quickchart:hover {\n",
              "    background-color: var(--hover-bg-color);\n",
              "    box-shadow: 0 1px 2px rgba(60, 64, 67, 0.3), 0 1px 3px 1px rgba(60, 64, 67, 0.15);\n",
              "    fill: var(--button-hover-fill-color);\n",
              "  }\n",
              "\n",
              "  .colab-df-quickchart-complete:disabled,\n",
              "  .colab-df-quickchart-complete:disabled:hover {\n",
              "    background-color: var(--disabled-bg-color);\n",
              "    fill: var(--disabled-fill-color);\n",
              "    box-shadow: none;\n",
              "  }\n",
              "\n",
              "  .colab-df-spinner {\n",
              "    border: 2px solid var(--fill-color);\n",
              "    border-color: transparent;\n",
              "    border-bottom-color: var(--fill-color);\n",
              "    animation:\n",
              "      spin 1s steps(1) infinite;\n",
              "  }\n",
              "\n",
              "  @keyframes spin {\n",
              "    0% {\n",
              "      border-color: transparent;\n",
              "      border-bottom-color: var(--fill-color);\n",
              "      border-left-color: var(--fill-color);\n",
              "    }\n",
              "    20% {\n",
              "      border-color: transparent;\n",
              "      border-left-color: var(--fill-color);\n",
              "      border-top-color: var(--fill-color);\n",
              "    }\n",
              "    30% {\n",
              "      border-color: transparent;\n",
              "      border-left-color: var(--fill-color);\n",
              "      border-top-color: var(--fill-color);\n",
              "      border-right-color: var(--fill-color);\n",
              "    }\n",
              "    40% {\n",
              "      border-color: transparent;\n",
              "      border-right-color: var(--fill-color);\n",
              "      border-top-color: var(--fill-color);\n",
              "    }\n",
              "    60% {\n",
              "      border-color: transparent;\n",
              "      border-right-color: var(--fill-color);\n",
              "    }\n",
              "    80% {\n",
              "      border-color: transparent;\n",
              "      border-right-color: var(--fill-color);\n",
              "      border-bottom-color: var(--fill-color);\n",
              "    }\n",
              "    90% {\n",
              "      border-color: transparent;\n",
              "      border-bottom-color: var(--fill-color);\n",
              "    }\n",
              "  }\n",
              "</style>\n",
              "\n",
              "  <script>\n",
              "    async function quickchart(key) {\n",
              "      const quickchartButtonEl =\n",
              "        document.querySelector('#' + key + ' button');\n",
              "      quickchartButtonEl.disabled = true;  // To prevent multiple clicks.\n",
              "      quickchartButtonEl.classList.add('colab-df-spinner');\n",
              "      try {\n",
              "        const charts = await google.colab.kernel.invokeFunction(\n",
              "            'suggestCharts', [key], {});\n",
              "      } catch (error) {\n",
              "        console.error('Error during call to suggestCharts:', error);\n",
              "      }\n",
              "      quickchartButtonEl.classList.remove('colab-df-spinner');\n",
              "      quickchartButtonEl.classList.add('colab-df-quickchart-complete');\n",
              "    }\n",
              "    (() => {\n",
              "      let quickchartButtonEl =\n",
              "        document.querySelector('#df-8aabbc5e-c069-4b12-bc3b-b4bfdf5410aa button');\n",
              "      quickchartButtonEl.style.display =\n",
              "        google.colab.kernel.accessAllowed ? 'block' : 'none';\n",
              "    })();\n",
              "  </script>\n",
              "</div>\n",
              "\n",
              "    </div>\n",
              "  </div>\n"
            ],
            "application/vnd.google.colaboratory.intrinsic+json": {
              "type": "dataframe",
              "variable_name": "df",
              "summary": "{\n  \"name\": \"df\",\n  \"rows\": 14,\n  \"fields\": [\n    {\n      \"column\": \"fname\",\n      \"properties\": {\n        \"dtype\": \"string\",\n        \"num_unique_values\": 14,\n        \"samples\": [\n          \"ck.live #about\",\n          \"ck.live blog Latest news articles in AI Competition in AI Video Generation Heats Up as DeepMind Alums Unveil Haiper\",\n          \"ck.live #projects\"\n        ],\n        \"semantic_type\": \"\",\n        \"description\": \"\"\n      }\n    },\n    {\n      \"column\": \"text\",\n      \"properties\": {\n        \"dtype\": \"string\",\n        \"num_unique_values\": 14,\n        \"samples\": [\n          \"ck.live #about. Yardstick AIYardstick AIHomeAboutProjectAyodhaya GPTMagic SEOLive AI Sales CallChatBotBlogsContact UsWelcome to Tomorrow's Intelligence: Elevate with YardstickEmbark on a journey where the present meets the future\\u2014where AI brilliance unfolds effortlessly. At Yardstick, we're not just pioneers, we're architects of your AI excellence.Talk To UsExpert AI Services Tailored For Your BusinessWe leverage cutting-edge technology to create advanced frameworks that foster improved efficiency, better decision-making and redefine user interactions.AI IntegrationWe seamlessly integrate AI models into your existing systems to improve efficiency and propel business growth.Fine-TuningOur solutions are tailor-made to meet your specific needs and ensure optimal performance for your unique requirements.Advanced AnalyticsLeverage AI to gain valuable insights from your data and make better, data-driven decisions.Image GenerationUpgrade your visual content and drive creativity with our AI-powered image generation solutions.Speech AIOur advanced speech AI applications revolutionize the way you interact with your customers.Video GenerationUnlock endless possibilities for communication with our AI-driven video generation capabilities.About YardstickAt Yardstick, we're heralding a new dawn in AI innovation. With a skilled team and advanced AI solutions, we're transforming the way businesses operate.We pride ourselves on our commitment to excellence, and our dedication to pushing the frontiers of what AI can achieve.We provide a suite of AI services, from AI model integration and advanced analytics to image & video generation and speech AI.Our agile solutions are tailored to the needs of our clients, ensuring optimal performance and strategic advantage.Choose Yardstick and be a part of the future, where innovation meets excellence, and AI drives success.Project ShowcaseOur work speaks for itself. Check out a range of projects we've completed to help businesses harness the power of AI.ChatbotEnhance customer interactions with our advanced AI chatbots, delivering seamless support and personalized experiences for elevated engagement.Live AI Sales CallOptimize sales calls in real-time using AI insights, boosting conversion rates and staying ahead in the competitive market.Magic SEOBoost online visibility and drive growth with our expert-led Magic SEO services, ensuring your business stands out in search rankings.Ayodhya GPTImmerse in History with AyodhyaGPT, your guide to understanding and participating in the auspicious Pran Pratishta ceremony at Ayodhya.Get DirectionOur LocationBANGALORE, KARNATAKAEmail Addresscontact@yardstick.liveTelephone+917891053001Get in TouchHave a question or a project in mind? We're here to connect. Feel free to drop us a message and we'll get back to you as soon as possible.Your NameYour EmailYour RequirementsSendYardstick AIEmbark on a journey where the present meets the future where AI brilliance unfolds effortlessly. At Yardstick AI, we're not just pioneers; we're architects of your AI excellence.LinkHomeAboutProjectsBlogContact USCopyright 2024 | Yardstick AI | All rights reserved.\",\n          \"ck.live blog Latest news articles in AI Competition in AI Video Generation Heats Up as DeepMind Alums Unveil Haiper. Blogs Name | Competition in AI Video Generation Heats Up as DeepMind Alums Unveil HaiperYardstick AIHomeAboutProjectAyodhaya GPTMagic SEOLive AI Sales CallChatBotBlogsContact UsCompetition in AI Video Generation Heats Up as DeepMind Alums Unveil HaiperBy Ethan Shaw18/03/2024AI VideoIn the fast-paced world of artificial intelligence, where innovation and creativity intersect, the realm of video generation has become a battleground for tech giants and startups alike. The recent unveiling of Haiper by two former DeepMind employees, Yishu Miao and Ziyu Wang, has set tongues wagging and pulses racing in the AI community.  The journey of Haiper began with Miao's and Wang's expertise in machine learning and their shared passion for pushing boundaries. Their initial foray into 3D reconstruction using neural networks eventually led them to the alluring realm of video generation. As Miao succinctly put it, the allure of crafting lifelike videos proved to be more captivating than their previous endeavors.   With a robust seed funding of $13.8 million led by Octopus Ventures and 5Y Capital, Haiper has quickly gained momentum in the competitive landscape. The support from renowned angels like Phil Blunsom and Nando de Freitas has further solidified the company's foundation, propelling it towards its vision of democratizing video generation.   Haiper's user-friendly interface allows anyone to dip their toes into the world of AI-powered video creation. By simply inputting text prompts, users can witness their ideas come to life in the form of compelling two-second HD videos or slightly longer four-second clips. Additionally, the platform offers unique features like image animation and video restyling, hinting at the endless possibilities that lie ahead.   With a focus on community building, Haiper aims to keep its current features free of charge, fostering a spirit of collaboration and exploration. While commercial partnerships with companies like [JD.com](http://jd.com/) are on the horizon, Miao emphasizes the importance of nurturing the core community first before delving into monetization strategies.   As Haiper continues to refine its video-generation model, the team remains dedicated to addressing crucial challenges, such as the uncanny valley phenomenon. By prioritizing the realism and authenticity of AI-generated content, the company sets its sights on establishing a new standard in video production.   Amongst its competitors, Haiper faces formidable players such as OpenAI's Sora, Runway backed by Google and Nvidia, and industry giants like Google and Meta with their proprietary models. However, with a focus on rapid iteration and community feedback, Haiper remains confident in its ability to carve out a unique position in the market.   As Rebecca Hunt from Octopus Ventures aptly puts it, differentiation in the video-generation space will be paramount in the coming years. With the potential for AI-driven content creation to revolutionize industries, the race for innovation and excellence is only just beginning.   In a landscape brimming with promise and potential, Haiper stands as a beacon of creativity and ingenuity, driving towards a future where AI and human imagination converge seamlessly. As the narrative of AI video generation unfolds, Haiper's story is poised to leave an indelible mark on the ever-evolving tech landscape.Popular Tags :AI VideoShare this post :Related PostsIndia's New AI Regulation Sparks Controversy A Deep Dive into the Reversal15/03/2024The Betrayal of a Vision Elon Musk's Legal Battle with OpenAI and Sam Altman16/03/2024Ema a Universal AI Employee Emerges from Stealth with 25M20/03/2024Yardstick AIEmbark on a journey where the present meets the future where AI brilliance unfolds effortlessly. At Yardstick AI, we're not just pioneers; we're architects of your AI excellence.LinkHomeAboutProjectsBlogContact USCopyright 2024 | Yardstick AI | All rights reserved.\",\n          \"ck.live #projects. Yardstick AIYardstick AIHomeAboutProjectAyodhaya GPTMagic SEOLive AI Sales CallChatBotBlogsContact UsWelcome to Tomorrow's Intelligence: Elevate with YardstickEmbark on a journey where the present meets the future\\u2014where AI brilliance unfolds effortlessly. At Yardstick, we're not just pioneers, we're architects of your AI excellence.Talk To UsExpert AI Services Tailored For Your BusinessWe leverage cutting-edge technology to create advanced frameworks that foster improved efficiency, better decision-making and redefine user interactions.AI IntegrationWe seamlessly integrate AI models into your existing systems to improve efficiency and propel business growth.Fine-TuningOur solutions are tailor-made to meet your specific needs and ensure optimal performance for your unique requirements.Advanced AnalyticsLeverage AI to gain valuable insights from your data and make better, data-driven decisions.Image GenerationUpgrade your visual content and drive creativity with our AI-powered image generation solutions.Speech AIOur advanced speech AI applications revolutionize the way you interact with your customers.Video GenerationUnlock endless possibilities for communication with our AI-driven video generation capabilities.About YardstickAt Yardstick, we're heralding a new dawn in AI innovation. With a skilled team and advanced AI solutions, we're transforming the way businesses operate.We pride ourselves on our commitment to excellence, and our dedication to pushing the frontiers of what AI can achieve.We provide a suite of AI services, from AI model integration and advanced analytics to image & video generation and speech AI.Our agile solutions are tailored to the needs of our clients, ensuring optimal performance and strategic advantage.Choose Yardstick and be a part of the future, where innovation meets excellence, and AI drives success.Project ShowcaseOur work speaks for itself. Check out a range of projects we've completed to help businesses harness the power of AI.ChatbotEnhance customer interactions with our advanced AI chatbots, delivering seamless support and personalized experiences for elevated engagement.Live AI Sales CallOptimize sales calls in real-time using AI insights, boosting conversion rates and staying ahead in the competitive market.Magic SEOBoost online visibility and drive growth with our expert-led Magic SEO services, ensuring your business stands out in search rankings.Ayodhya GPTImmerse in History with AyodhyaGPT, your guide to understanding and participating in the auspicious Pran Pratishta ceremony at Ayodhya.Get DirectionOur LocationBANGALORE, KARNATAKAEmail Addresscontact@yardstick.liveTelephone+917891053001Get in TouchHave a question or a project in mind? We're here to connect. Feel free to drop us a message and we'll get back to you as soon as possible.Your NameYour EmailYour RequirementsSendYardstick AIEmbark on a journey where the present meets the future where AI brilliance unfolds effortlessly. At Yardstick AI, we're not just pioneers; we're architects of your AI excellence.LinkHomeAboutProjectsBlogContact USCopyright 2024 | Yardstick AI | All rights reserved.\"\n        ],\n        \"semantic_type\": \"\",\n        \"description\": \"\"\n      }\n    }\n  ]\n}"
            }
          },
          "metadata": {},
          "execution_count": 10
        }
      ]
    },
    {
      "cell_type": "code",
      "execution_count": 11,
      "metadata": {
        "colab": {
          "base_uri": "https://localhost:8080/",
          "height": 488
        },
        "id": "xnnsUszh2XYi",
        "outputId": "084983f4-5dfe-43b3-e518-6e82cf0aa690"
      },
      "outputs": [
        {
          "output_type": "execute_result",
          "data": {
            "text/plain": [
              "                                                fname  \\\n",
              "0                                   ck.live #projects   \n",
              "1                         ck.live project ayodhya gpt   \n",
              "2   ck.live blog Latest news articles in AI The Be...   \n",
              "3                                        ck.live blog   \n",
              "4                                             ck.live   \n",
              "5                                            ck.live    \n",
              "6   ck.live blog Latest news articles in AI India'...   \n",
              "7                                    ck.live #contact   \n",
              "8                         ck.live tel:  +917891053001   \n",
              "9                                      ck.live #about   \n",
              "10            ck.live blog Latest news articles in AI   \n",
              "11  ck.live blog Latest news articles in AI Compet...   \n",
              "12  ck.live blog Latest news articles in AI Ema a ...   \n",
              "13                                      ck.live #home   \n",
              "\n",
              "                                                 text  \n",
              "0   ck.live #projects. Yardstick AIYardstick AIHom...  \n",
              "1   ck.live project ayodhya gpt. Blog Details Page...  \n",
              "2   ck.live blog Latest news articles in AI The Be...  \n",
              "3   ck.live blog. BlogYardstick AIHomeAboutProject...  \n",
              "4   ck.live. Yardstick AIYardstick AIHomeAboutProj...  \n",
              "5   ck.live . Yardstick AIYardstick AIHomeAboutPro...  \n",
              "6   ck.live blog Latest news articles in AI India'...  \n",
              "7   ck.live #contact. Yardstick AIYardstick AIHome...  \n",
              "8   ck.live tel:  +917891053001. 404 | Not FoundYa...  \n",
              "9   ck.live #about. Yardstick AIYardstick AIHomeAb...  \n",
              "10  ck.live blog Latest news articles in AI. Blogs...  \n",
              "11  ck.live blog Latest news articles in AI Compet...  \n",
              "12  ck.live blog Latest news articles in AI Ema a ...  \n",
              "13  ck.live #home. Yardstick AIYardstick AIHomeAbo...  "
            ],
            "text/html": [
              "\n",
              "  <div id=\"df-9fb4bab6-fa68-45a4-9bf1-893e2aa43b39\" class=\"colab-df-container\">\n",
              "    <div>\n",
              "<style scoped>\n",
              "    .dataframe tbody tr th:only-of-type {\n",
              "        vertical-align: middle;\n",
              "    }\n",
              "\n",
              "    .dataframe tbody tr th {\n",
              "        vertical-align: top;\n",
              "    }\n",
              "\n",
              "    .dataframe thead th {\n",
              "        text-align: right;\n",
              "    }\n",
              "</style>\n",
              "<table border=\"1\" class=\"dataframe\">\n",
              "  <thead>\n",
              "    <tr style=\"text-align: right;\">\n",
              "      <th></th>\n",
              "      <th>fname</th>\n",
              "      <th>text</th>\n",
              "    </tr>\n",
              "  </thead>\n",
              "  <tbody>\n",
              "    <tr>\n",
              "      <th>0</th>\n",
              "      <td>ck.live #projects</td>\n",
              "      <td>ck.live #projects. Yardstick AIYardstick AIHom...</td>\n",
              "    </tr>\n",
              "    <tr>\n",
              "      <th>1</th>\n",
              "      <td>ck.live project ayodhya gpt</td>\n",
              "      <td>ck.live project ayodhya gpt. Blog Details Page...</td>\n",
              "    </tr>\n",
              "    <tr>\n",
              "      <th>2</th>\n",
              "      <td>ck.live blog Latest news articles in AI The Be...</td>\n",
              "      <td>ck.live blog Latest news articles in AI The Be...</td>\n",
              "    </tr>\n",
              "    <tr>\n",
              "      <th>3</th>\n",
              "      <td>ck.live blog</td>\n",
              "      <td>ck.live blog. BlogYardstick AIHomeAboutProject...</td>\n",
              "    </tr>\n",
              "    <tr>\n",
              "      <th>4</th>\n",
              "      <td>ck.live</td>\n",
              "      <td>ck.live. Yardstick AIYardstick AIHomeAboutProj...</td>\n",
              "    </tr>\n",
              "    <tr>\n",
              "      <th>5</th>\n",
              "      <td>ck.live</td>\n",
              "      <td>ck.live . Yardstick AIYardstick AIHomeAboutPro...</td>\n",
              "    </tr>\n",
              "    <tr>\n",
              "      <th>6</th>\n",
              "      <td>ck.live blog Latest news articles in AI India'...</td>\n",
              "      <td>ck.live blog Latest news articles in AI India'...</td>\n",
              "    </tr>\n",
              "    <tr>\n",
              "      <th>7</th>\n",
              "      <td>ck.live #contact</td>\n",
              "      <td>ck.live #contact. Yardstick AIYardstick AIHome...</td>\n",
              "    </tr>\n",
              "    <tr>\n",
              "      <th>8</th>\n",
              "      <td>ck.live tel:  +917891053001</td>\n",
              "      <td>ck.live tel:  +917891053001. 404 | Not FoundYa...</td>\n",
              "    </tr>\n",
              "    <tr>\n",
              "      <th>9</th>\n",
              "      <td>ck.live #about</td>\n",
              "      <td>ck.live #about. Yardstick AIYardstick AIHomeAb...</td>\n",
              "    </tr>\n",
              "    <tr>\n",
              "      <th>10</th>\n",
              "      <td>ck.live blog Latest news articles in AI</td>\n",
              "      <td>ck.live blog Latest news articles in AI. Blogs...</td>\n",
              "    </tr>\n",
              "    <tr>\n",
              "      <th>11</th>\n",
              "      <td>ck.live blog Latest news articles in AI Compet...</td>\n",
              "      <td>ck.live blog Latest news articles in AI Compet...</td>\n",
              "    </tr>\n",
              "    <tr>\n",
              "      <th>12</th>\n",
              "      <td>ck.live blog Latest news articles in AI Ema a ...</td>\n",
              "      <td>ck.live blog Latest news articles in AI Ema a ...</td>\n",
              "    </tr>\n",
              "    <tr>\n",
              "      <th>13</th>\n",
              "      <td>ck.live #home</td>\n",
              "      <td>ck.live #home. Yardstick AIYardstick AIHomeAbo...</td>\n",
              "    </tr>\n",
              "  </tbody>\n",
              "</table>\n",
              "</div>\n",
              "    <div class=\"colab-df-buttons\">\n",
              "\n",
              "  <div class=\"colab-df-container\">\n",
              "    <button class=\"colab-df-convert\" onclick=\"convertToInteractive('df-9fb4bab6-fa68-45a4-9bf1-893e2aa43b39')\"\n",
              "            title=\"Convert this dataframe to an interactive table.\"\n",
              "            style=\"display:none;\">\n",
              "\n",
              "  <svg xmlns=\"http://www.w3.org/2000/svg\" height=\"24px\" viewBox=\"0 -960 960 960\">\n",
              "    <path d=\"M120-120v-720h720v720H120Zm60-500h600v-160H180v160Zm220 220h160v-160H400v160Zm0 220h160v-160H400v160ZM180-400h160v-160H180v160Zm440 0h160v-160H620v160ZM180-180h160v-160H180v160Zm440 0h160v-160H620v160Z\"/>\n",
              "  </svg>\n",
              "    </button>\n",
              "\n",
              "  <style>\n",
              "    .colab-df-container {\n",
              "      display:flex;\n",
              "      gap: 12px;\n",
              "    }\n",
              "\n",
              "    .colab-df-convert {\n",
              "      background-color: #E8F0FE;\n",
              "      border: none;\n",
              "      border-radius: 50%;\n",
              "      cursor: pointer;\n",
              "      display: none;\n",
              "      fill: #1967D2;\n",
              "      height: 32px;\n",
              "      padding: 0 0 0 0;\n",
              "      width: 32px;\n",
              "    }\n",
              "\n",
              "    .colab-df-convert:hover {\n",
              "      background-color: #E2EBFA;\n",
              "      box-shadow: 0px 1px 2px rgba(60, 64, 67, 0.3), 0px 1px 3px 1px rgba(60, 64, 67, 0.15);\n",
              "      fill: #174EA6;\n",
              "    }\n",
              "\n",
              "    .colab-df-buttons div {\n",
              "      margin-bottom: 4px;\n",
              "    }\n",
              "\n",
              "    [theme=dark] .colab-df-convert {\n",
              "      background-color: #3B4455;\n",
              "      fill: #D2E3FC;\n",
              "    }\n",
              "\n",
              "    [theme=dark] .colab-df-convert:hover {\n",
              "      background-color: #434B5C;\n",
              "      box-shadow: 0px 1px 3px 1px rgba(0, 0, 0, 0.15);\n",
              "      filter: drop-shadow(0px 1px 2px rgba(0, 0, 0, 0.3));\n",
              "      fill: #FFFFFF;\n",
              "    }\n",
              "  </style>\n",
              "\n",
              "    <script>\n",
              "      const buttonEl =\n",
              "        document.querySelector('#df-9fb4bab6-fa68-45a4-9bf1-893e2aa43b39 button.colab-df-convert');\n",
              "      buttonEl.style.display =\n",
              "        google.colab.kernel.accessAllowed ? 'block' : 'none';\n",
              "\n",
              "      async function convertToInteractive(key) {\n",
              "        const element = document.querySelector('#df-9fb4bab6-fa68-45a4-9bf1-893e2aa43b39');\n",
              "        const dataTable =\n",
              "          await google.colab.kernel.invokeFunction('convertToInteractive',\n",
              "                                                    [key], {});\n",
              "        if (!dataTable) return;\n",
              "\n",
              "        const docLinkHtml = 'Like what you see? Visit the ' +\n",
              "          '<a target=\"_blank\" href=https://colab.research.google.com/notebooks/data_table.ipynb>data table notebook</a>'\n",
              "          + ' to learn more about interactive tables.';\n",
              "        element.innerHTML = '';\n",
              "        dataTable['output_type'] = 'display_data';\n",
              "        await google.colab.output.renderOutput(dataTable, element);\n",
              "        const docLink = document.createElement('div');\n",
              "        docLink.innerHTML = docLinkHtml;\n",
              "        element.appendChild(docLink);\n",
              "      }\n",
              "    </script>\n",
              "  </div>\n",
              "\n",
              "\n",
              "<div id=\"df-0b266c59-91a8-4d93-8107-8a02e67b364f\">\n",
              "  <button class=\"colab-df-quickchart\" onclick=\"quickchart('df-0b266c59-91a8-4d93-8107-8a02e67b364f')\"\n",
              "            title=\"Suggest charts\"\n",
              "            style=\"display:none;\">\n",
              "\n",
              "<svg xmlns=\"http://www.w3.org/2000/svg\" height=\"24px\"viewBox=\"0 0 24 24\"\n",
              "     width=\"24px\">\n",
              "    <g>\n",
              "        <path d=\"M19 3H5c-1.1 0-2 .9-2 2v14c0 1.1.9 2 2 2h14c1.1 0 2-.9 2-2V5c0-1.1-.9-2-2-2zM9 17H7v-7h2v7zm4 0h-2V7h2v10zm4 0h-2v-4h2v4z\"/>\n",
              "    </g>\n",
              "</svg>\n",
              "  </button>\n",
              "\n",
              "<style>\n",
              "  .colab-df-quickchart {\n",
              "      --bg-color: #E8F0FE;\n",
              "      --fill-color: #1967D2;\n",
              "      --hover-bg-color: #E2EBFA;\n",
              "      --hover-fill-color: #174EA6;\n",
              "      --disabled-fill-color: #AAA;\n",
              "      --disabled-bg-color: #DDD;\n",
              "  }\n",
              "\n",
              "  [theme=dark] .colab-df-quickchart {\n",
              "      --bg-color: #3B4455;\n",
              "      --fill-color: #D2E3FC;\n",
              "      --hover-bg-color: #434B5C;\n",
              "      --hover-fill-color: #FFFFFF;\n",
              "      --disabled-bg-color: #3B4455;\n",
              "      --disabled-fill-color: #666;\n",
              "  }\n",
              "\n",
              "  .colab-df-quickchart {\n",
              "    background-color: var(--bg-color);\n",
              "    border: none;\n",
              "    border-radius: 50%;\n",
              "    cursor: pointer;\n",
              "    display: none;\n",
              "    fill: var(--fill-color);\n",
              "    height: 32px;\n",
              "    padding: 0;\n",
              "    width: 32px;\n",
              "  }\n",
              "\n",
              "  .colab-df-quickchart:hover {\n",
              "    background-color: var(--hover-bg-color);\n",
              "    box-shadow: 0 1px 2px rgba(60, 64, 67, 0.3), 0 1px 3px 1px rgba(60, 64, 67, 0.15);\n",
              "    fill: var(--button-hover-fill-color);\n",
              "  }\n",
              "\n",
              "  .colab-df-quickchart-complete:disabled,\n",
              "  .colab-df-quickchart-complete:disabled:hover {\n",
              "    background-color: var(--disabled-bg-color);\n",
              "    fill: var(--disabled-fill-color);\n",
              "    box-shadow: none;\n",
              "  }\n",
              "\n",
              "  .colab-df-spinner {\n",
              "    border: 2px solid var(--fill-color);\n",
              "    border-color: transparent;\n",
              "    border-bottom-color: var(--fill-color);\n",
              "    animation:\n",
              "      spin 1s steps(1) infinite;\n",
              "  }\n",
              "\n",
              "  @keyframes spin {\n",
              "    0% {\n",
              "      border-color: transparent;\n",
              "      border-bottom-color: var(--fill-color);\n",
              "      border-left-color: var(--fill-color);\n",
              "    }\n",
              "    20% {\n",
              "      border-color: transparent;\n",
              "      border-left-color: var(--fill-color);\n",
              "      border-top-color: var(--fill-color);\n",
              "    }\n",
              "    30% {\n",
              "      border-color: transparent;\n",
              "      border-left-color: var(--fill-color);\n",
              "      border-top-color: var(--fill-color);\n",
              "      border-right-color: var(--fill-color);\n",
              "    }\n",
              "    40% {\n",
              "      border-color: transparent;\n",
              "      border-right-color: var(--fill-color);\n",
              "      border-top-color: var(--fill-color);\n",
              "    }\n",
              "    60% {\n",
              "      border-color: transparent;\n",
              "      border-right-color: var(--fill-color);\n",
              "    }\n",
              "    80% {\n",
              "      border-color: transparent;\n",
              "      border-right-color: var(--fill-color);\n",
              "      border-bottom-color: var(--fill-color);\n",
              "    }\n",
              "    90% {\n",
              "      border-color: transparent;\n",
              "      border-bottom-color: var(--fill-color);\n",
              "    }\n",
              "  }\n",
              "</style>\n",
              "\n",
              "  <script>\n",
              "    async function quickchart(key) {\n",
              "      const quickchartButtonEl =\n",
              "        document.querySelector('#' + key + ' button');\n",
              "      quickchartButtonEl.disabled = true;  // To prevent multiple clicks.\n",
              "      quickchartButtonEl.classList.add('colab-df-spinner');\n",
              "      try {\n",
              "        const charts = await google.colab.kernel.invokeFunction(\n",
              "            'suggestCharts', [key], {});\n",
              "      } catch (error) {\n",
              "        console.error('Error during call to suggestCharts:', error);\n",
              "      }\n",
              "      quickchartButtonEl.classList.remove('colab-df-spinner');\n",
              "      quickchartButtonEl.classList.add('colab-df-quickchart-complete');\n",
              "    }\n",
              "    (() => {\n",
              "      let quickchartButtonEl =\n",
              "        document.querySelector('#df-0b266c59-91a8-4d93-8107-8a02e67b364f button');\n",
              "      quickchartButtonEl.style.display =\n",
              "        google.colab.kernel.accessAllowed ? 'block' : 'none';\n",
              "    })();\n",
              "  </script>\n",
              "</div>\n",
              "\n",
              "  <div id=\"id_19ca3baa-d0ea-4d67-aa5d-ea322d2a0cc3\">\n",
              "    <style>\n",
              "      .colab-df-generate {\n",
              "        background-color: #E8F0FE;\n",
              "        border: none;\n",
              "        border-radius: 50%;\n",
              "        cursor: pointer;\n",
              "        display: none;\n",
              "        fill: #1967D2;\n",
              "        height: 32px;\n",
              "        padding: 0 0 0 0;\n",
              "        width: 32px;\n",
              "      }\n",
              "\n",
              "      .colab-df-generate:hover {\n",
              "        background-color: #E2EBFA;\n",
              "        box-shadow: 0px 1px 2px rgba(60, 64, 67, 0.3), 0px 1px 3px 1px rgba(60, 64, 67, 0.15);\n",
              "        fill: #174EA6;\n",
              "      }\n",
              "\n",
              "      [theme=dark] .colab-df-generate {\n",
              "        background-color: #3B4455;\n",
              "        fill: #D2E3FC;\n",
              "      }\n",
              "\n",
              "      [theme=dark] .colab-df-generate:hover {\n",
              "        background-color: #434B5C;\n",
              "        box-shadow: 0px 1px 3px 1px rgba(0, 0, 0, 0.15);\n",
              "        filter: drop-shadow(0px 1px 2px rgba(0, 0, 0, 0.3));\n",
              "        fill: #FFFFFF;\n",
              "      }\n",
              "    </style>\n",
              "    <button class=\"colab-df-generate\" onclick=\"generateWithVariable('df')\"\n",
              "            title=\"Generate code using this dataframe.\"\n",
              "            style=\"display:none;\">\n",
              "\n",
              "  <svg xmlns=\"http://www.w3.org/2000/svg\" height=\"24px\"viewBox=\"0 0 24 24\"\n",
              "       width=\"24px\">\n",
              "    <path d=\"M7,19H8.4L18.45,9,17,7.55,7,17.6ZM5,21V16.75L18.45,3.32a2,2,0,0,1,2.83,0l1.4,1.43a1.91,1.91,0,0,1,.58,1.4,1.91,1.91,0,0,1-.58,1.4L9.25,21ZM18.45,9,17,7.55Zm-12,3A5.31,5.31,0,0,0,4.9,8.1,5.31,5.31,0,0,0,1,6.5,5.31,5.31,0,0,0,4.9,4.9,5.31,5.31,0,0,0,6.5,1,5.31,5.31,0,0,0,8.1,4.9,5.31,5.31,0,0,0,12,6.5,5.46,5.46,0,0,0,6.5,12Z\"/>\n",
              "  </svg>\n",
              "    </button>\n",
              "    <script>\n",
              "      (() => {\n",
              "      const buttonEl =\n",
              "        document.querySelector('#id_19ca3baa-d0ea-4d67-aa5d-ea322d2a0cc3 button.colab-df-generate');\n",
              "      buttonEl.style.display =\n",
              "        google.colab.kernel.accessAllowed ? 'block' : 'none';\n",
              "\n",
              "      buttonEl.onclick = () => {\n",
              "        google.colab.notebook.generateWithVariable('df');\n",
              "      }\n",
              "      })();\n",
              "    </script>\n",
              "  </div>\n",
              "\n",
              "    </div>\n",
              "  </div>\n"
            ],
            "application/vnd.google.colaboratory.intrinsic+json": {
              "type": "dataframe",
              "variable_name": "df",
              "summary": "{\n  \"name\": \"df\",\n  \"rows\": 14,\n  \"fields\": [\n    {\n      \"column\": \"fname\",\n      \"properties\": {\n        \"dtype\": \"string\",\n        \"num_unique_values\": 14,\n        \"samples\": [\n          \"ck.live #about\",\n          \"ck.live blog Latest news articles in AI Competition in AI Video Generation Heats Up as DeepMind Alums Unveil Haiper\",\n          \"ck.live #projects\"\n        ],\n        \"semantic_type\": \"\",\n        \"description\": \"\"\n      }\n    },\n    {\n      \"column\": \"text\",\n      \"properties\": {\n        \"dtype\": \"string\",\n        \"num_unique_values\": 14,\n        \"samples\": [\n          \"ck.live #about. Yardstick AIYardstick AIHomeAboutProjectAyodhaya GPTMagic SEOLive AI Sales CallChatBotBlogsContact UsWelcome to Tomorrow's Intelligence: Elevate with YardstickEmbark on a journey where the present meets the future\\u2014where AI brilliance unfolds effortlessly. At Yardstick, we're not just pioneers, we're architects of your AI excellence.Talk To UsExpert AI Services Tailored For Your BusinessWe leverage cutting-edge technology to create advanced frameworks that foster improved efficiency, better decision-making and redefine user interactions.AI IntegrationWe seamlessly integrate AI models into your existing systems to improve efficiency and propel business growth.Fine-TuningOur solutions are tailor-made to meet your specific needs and ensure optimal performance for your unique requirements.Advanced AnalyticsLeverage AI to gain valuable insights from your data and make better, data-driven decisions.Image GenerationUpgrade your visual content and drive creativity with our AI-powered image generation solutions.Speech AIOur advanced speech AI applications revolutionize the way you interact with your customers.Video GenerationUnlock endless possibilities for communication with our AI-driven video generation capabilities.About YardstickAt Yardstick, we're heralding a new dawn in AI innovation. With a skilled team and advanced AI solutions, we're transforming the way businesses operate.We pride ourselves on our commitment to excellence, and our dedication to pushing the frontiers of what AI can achieve.We provide a suite of AI services, from AI model integration and advanced analytics to image & video generation and speech AI.Our agile solutions are tailored to the needs of our clients, ensuring optimal performance and strategic advantage.Choose Yardstick and be a part of the future, where innovation meets excellence, and AI drives success.Project ShowcaseOur work speaks for itself. Check out a range of projects we've completed to help businesses harness the power of AI.ChatbotEnhance customer interactions with our advanced AI chatbots, delivering seamless support and personalized experiences for elevated engagement.Live AI Sales CallOptimize sales calls in real-time using AI insights, boosting conversion rates and staying ahead in the competitive market.Magic SEOBoost online visibility and drive growth with our expert-led Magic SEO services, ensuring your business stands out in search rankings.Ayodhya GPTImmerse in History with AyodhyaGPT, your guide to understanding and participating in the auspicious Pran Pratishta ceremony at Ayodhya.Get DirectionOur LocationBANGALORE, KARNATAKAEmail Addresscontact@yardstick.liveTelephone+917891053001Get in TouchHave a question or a project in mind? We're here to connect. Feel free to drop us a message and we'll get back to you as soon as possible.Your NameYour EmailYour RequirementsSendYardstick AIEmbark on a journey where the present meets the future where AI brilliance unfolds effortlessly. At Yardstick AI, we're not just pioneers; we're architects of your AI excellence.LinkHomeAboutProjectsBlogContact USCopyright 2024 | Yardstick AI | All rights reserved.\",\n          \"ck.live blog Latest news articles in AI Competition in AI Video Generation Heats Up as DeepMind Alums Unveil Haiper. Blogs Name | Competition in AI Video Generation Heats Up as DeepMind Alums Unveil HaiperYardstick AIHomeAboutProjectAyodhaya GPTMagic SEOLive AI Sales CallChatBotBlogsContact UsCompetition in AI Video Generation Heats Up as DeepMind Alums Unveil HaiperBy Ethan Shaw18/03/2024AI VideoIn the fast-paced world of artificial intelligence, where innovation and creativity intersect, the realm of video generation has become a battleground for tech giants and startups alike. The recent unveiling of Haiper by two former DeepMind employees, Yishu Miao and Ziyu Wang, has set tongues wagging and pulses racing in the AI community.  The journey of Haiper began with Miao's and Wang's expertise in machine learning and their shared passion for pushing boundaries. Their initial foray into 3D reconstruction using neural networks eventually led them to the alluring realm of video generation. As Miao succinctly put it, the allure of crafting lifelike videos proved to be more captivating than their previous endeavors.   With a robust seed funding of $13.8 million led by Octopus Ventures and 5Y Capital, Haiper has quickly gained momentum in the competitive landscape. The support from renowned angels like Phil Blunsom and Nando de Freitas has further solidified the company's foundation, propelling it towards its vision of democratizing video generation.   Haiper's user-friendly interface allows anyone to dip their toes into the world of AI-powered video creation. By simply inputting text prompts, users can witness their ideas come to life in the form of compelling two-second HD videos or slightly longer four-second clips. Additionally, the platform offers unique features like image animation and video restyling, hinting at the endless possibilities that lie ahead.   With a focus on community building, Haiper aims to keep its current features free of charge, fostering a spirit of collaboration and exploration. While commercial partnerships with companies like [JD.com](http://jd.com/) are on the horizon, Miao emphasizes the importance of nurturing the core community first before delving into monetization strategies.   As Haiper continues to refine its video-generation model, the team remains dedicated to addressing crucial challenges, such as the uncanny valley phenomenon. By prioritizing the realism and authenticity of AI-generated content, the company sets its sights on establishing a new standard in video production.   Amongst its competitors, Haiper faces formidable players such as OpenAI's Sora, Runway backed by Google and Nvidia, and industry giants like Google and Meta with their proprietary models. However, with a focus on rapid iteration and community feedback, Haiper remains confident in its ability to carve out a unique position in the market.   As Rebecca Hunt from Octopus Ventures aptly puts it, differentiation in the video-generation space will be paramount in the coming years. With the potential for AI-driven content creation to revolutionize industries, the race for innovation and excellence is only just beginning.   In a landscape brimming with promise and potential, Haiper stands as a beacon of creativity and ingenuity, driving towards a future where AI and human imagination converge seamlessly. As the narrative of AI video generation unfolds, Haiper's story is poised to leave an indelible mark on the ever-evolving tech landscape.Popular Tags :AI VideoShare this post :Related PostsIndia's New AI Regulation Sparks Controversy A Deep Dive into the Reversal15/03/2024The Betrayal of a Vision Elon Musk's Legal Battle with OpenAI and Sam Altman16/03/2024Ema a Universal AI Employee Emerges from Stealth with 25M20/03/2024Yardstick AIEmbark on a journey where the present meets the future where AI brilliance unfolds effortlessly. At Yardstick AI, we're not just pioneers; we're architects of your AI excellence.LinkHomeAboutProjectsBlogContact USCopyright 2024 | Yardstick AI | All rights reserved.\",\n          \"ck.live #projects. Yardstick AIYardstick AIHomeAboutProjectAyodhaya GPTMagic SEOLive AI Sales CallChatBotBlogsContact UsWelcome to Tomorrow's Intelligence: Elevate with YardstickEmbark on a journey where the present meets the future\\u2014where AI brilliance unfolds effortlessly. At Yardstick, we're not just pioneers, we're architects of your AI excellence.Talk To UsExpert AI Services Tailored For Your BusinessWe leverage cutting-edge technology to create advanced frameworks that foster improved efficiency, better decision-making and redefine user interactions.AI IntegrationWe seamlessly integrate AI models into your existing systems to improve efficiency and propel business growth.Fine-TuningOur solutions are tailor-made to meet your specific needs and ensure optimal performance for your unique requirements.Advanced AnalyticsLeverage AI to gain valuable insights from your data and make better, data-driven decisions.Image GenerationUpgrade your visual content and drive creativity with our AI-powered image generation solutions.Speech AIOur advanced speech AI applications revolutionize the way you interact with your customers.Video GenerationUnlock endless possibilities for communication with our AI-driven video generation capabilities.About YardstickAt Yardstick, we're heralding a new dawn in AI innovation. With a skilled team and advanced AI solutions, we're transforming the way businesses operate.We pride ourselves on our commitment to excellence, and our dedication to pushing the frontiers of what AI can achieve.We provide a suite of AI services, from AI model integration and advanced analytics to image & video generation and speech AI.Our agile solutions are tailored to the needs of our clients, ensuring optimal performance and strategic advantage.Choose Yardstick and be a part of the future, where innovation meets excellence, and AI drives success.Project ShowcaseOur work speaks for itself. Check out a range of projects we've completed to help businesses harness the power of AI.ChatbotEnhance customer interactions with our advanced AI chatbots, delivering seamless support and personalized experiences for elevated engagement.Live AI Sales CallOptimize sales calls in real-time using AI insights, boosting conversion rates and staying ahead in the competitive market.Magic SEOBoost online visibility and drive growth with our expert-led Magic SEO services, ensuring your business stands out in search rankings.Ayodhya GPTImmerse in History with AyodhyaGPT, your guide to understanding and participating in the auspicious Pran Pratishta ceremony at Ayodhya.Get DirectionOur LocationBANGALORE, KARNATAKAEmail Addresscontact@yardstick.liveTelephone+917891053001Get in TouchHave a question or a project in mind? We're here to connect. Feel free to drop us a message and we'll get back to you as soon as possible.Your NameYour EmailYour RequirementsSendYardstick AIEmbark on a journey where the present meets the future where AI brilliance unfolds effortlessly. At Yardstick AI, we're not just pioneers; we're architects of your AI excellence.LinkHomeAboutProjectsBlogContact USCopyright 2024 | Yardstick AI | All rights reserved.\"\n        ],\n        \"semantic_type\": \"\",\n        \"description\": \"\"\n      }\n    }\n  ]\n}"
            }
          },
          "metadata": {},
          "execution_count": 11
        }
      ],
      "source": [
        "df.iloc[:,:]"
      ]
    },
    {
      "cell_type": "markdown",
      "metadata": {
        "id": "xTEh-3o02XYj"
      },
      "source": [
        "### Building the Knowledge Base"
      ]
    },
    {
      "cell_type": "markdown",
      "metadata": {
        "id": "75QIqSWl2XYk"
      },
      "source": [
        "We now have a dataset that can serve as our chatbot knowledge base. Our next task is to transform that dataset into the knowledge base that our chatbot can use. To do this we must use an embedding model and vector database.\n",
        "\n",
        "We begin by initializing our connection to Pinecone."
      ]
    },
    {
      "cell_type": "code",
      "execution_count": 12,
      "metadata": {
        "id": "-7y-O7Vp2XYs"
      },
      "outputs": [],
      "source": [
        "from pinecone import Pinecone\n",
        "\n",
        "api_key = os.getenv(\"PINECONE_API_KEY\") or \"Repace With Your API Key\"\n",
        "\n",
        "pc = Pinecone(api_key=api_key)"
      ]
    },
    {
      "cell_type": "markdown",
      "source": [
        "I have already initialized an index in Pinecone DB in its offcial website.\n",
        "Create an index in the [Pinecone](https://www.pinecone.io) cloud service.\n",
        "Write the name of the index in the cell below. Also initialize the index with the cosine similarity index in Pinecone."
      ],
      "metadata": {
        "id": "lpgX6pNKdgp7"
      }
    },
    {
      "cell_type": "code",
      "execution_count": 14,
      "metadata": {
        "colab": {
          "base_uri": "https://localhost:8080/"
        },
        "id": "bD__ErK52XYt",
        "outputId": "513ea9cb-4af0-49c1-855c-a8f6e351ca6e"
      },
      "outputs": [
        {
          "output_type": "execute_result",
          "data": {
            "text/plain": [
              "{'dimension': 1536,\n",
              " 'index_fullness': 0.0,\n",
              " 'namespaces': {},\n",
              " 'total_vector_count': 0}"
            ]
          },
          "metadata": {},
          "execution_count": 14
        }
      ],
      "source": [
        "import time\n",
        "\n",
        "index_name = 'Replace with your index name'\n",
        "\n",
        "\n",
        "# connect to index\n",
        "index = pc.Index(index_name)\n",
        "time.sleep(1)\n",
        "# view index stats\n",
        "index.describe_index_stats()\n"
      ]
    },
    {
      "cell_type": "markdown",
      "metadata": {
        "id": "VOg5gGeX2XYu"
      },
      "source": [
        "\n",
        "Embedding the data to the Open AI embedding model(text-embedding-ada-002)"
      ]
    },
    {
      "cell_type": "code",
      "source": [
        "from langchain.embeddings.openai import OpenAIEmbeddings\n",
        "\n",
        "embed_model = OpenAIEmbeddings(model=\"text-embedding-ada-002\")\n",
        "\n",
        "from tqdm.auto import tqdm  # for progress bar\n",
        "batch_size = 1\n",
        "\n",
        "for i in tqdm(range(0, len(df), batch_size)):\n",
        "    i_end = min(len(df), i+batch_size)\n",
        "    # get batch of data\n",
        "    batch = df.iloc[i:i_end]\n",
        "    # generate unique ids for each chunk\n",
        "    ids = [f\"{i}\" ]\n",
        "    # get text to embed\n",
        "    texts = [x['text'] for _, x in batch.iterrows()]\n",
        "    # embed text\n",
        "    embeds = embed_model.embed_documents(texts)\n",
        "    # get metadata to store in Pinecone\n",
        "    metadata = [\n",
        "        {'text': x['text'],\n",
        "         'title': x['fname']} for i, x in batch.iterrows()\n",
        "    ]\n",
        "\n",
        "    # add to Pinecone\n",
        "    index.upsert(vectors=zip(ids, embeds, metadata))"
      ],
      "metadata": {
        "colab": {
          "base_uri": "https://localhost:8080/",
          "height": 105,
          "referenced_widgets": [
            "f132d0b0e0244dc7b2682283a238a3b9",
            "e192b1d06e6444779fee57511c020f73",
            "234dde3d2a4548f287c7750d20a5a1dc",
            "d4f5f6644ac6451f85c0174808e63903",
            "4d7e3b0fcd53475a8f3c388f8f4762e9",
            "be23c02da53e4d479ac8d8b8f52a0fcf",
            "d2aecfcf25f14898b8bfee1f5cb6dda0",
            "9a5a864a27094facad10d76c851b3ded",
            "d588b64f63d1424788770252ae4a207e",
            "a56cf15bc3924dca9650a05615df46bd",
            "e79104542fbd4a878a6934dede9c737b"
          ]
        },
        "id": "SsfpkCT3UMoc",
        "outputId": "fd8e90fb-dbc8-4d90-da95-6b1917b125d6"
      },
      "execution_count": 15,
      "outputs": [
        {
          "output_type": "stream",
          "name": "stderr",
          "text": [
            "/usr/local/lib/python3.10/dist-packages/langchain_core/_api/deprecation.py:117: LangChainDeprecationWarning: The class `langchain_community.embeddings.openai.OpenAIEmbeddings` was deprecated in langchain-community 0.1.0 and will be removed in 0.2.0. An updated version of the class exists in the langchain-openai package and should be used instead. To use it run `pip install -U langchain-openai` and import as `from langchain_openai import OpenAIEmbeddings`.\n",
            "  warn_deprecated(\n"
          ]
        },
        {
          "output_type": "display_data",
          "data": {
            "text/plain": [
              "  0%|          | 0/14 [00:00<?, ?it/s]"
            ],
            "application/vnd.jupyter.widget-view+json": {
              "version_major": 2,
              "version_minor": 0,
              "model_id": "f132d0b0e0244dc7b2682283a238a3b9"
            }
          },
          "metadata": {}
        }
      ]
    },
    {
      "cell_type": "markdown",
      "source": [
        "If there was huge data I would have increased the batch size. But since it is smaller(just 14 rows), I declared it to be 1"
      ],
      "metadata": {
        "id": "6qenQQa_TUPb"
      }
    },
    {
      "cell_type": "code",
      "execution_count": 16,
      "metadata": {
        "colab": {
          "base_uri": "https://localhost:8080/"
        },
        "id": "MaxQmVc12XYu",
        "outputId": "d8750d6d-3207-41e2-a10e-7df34712f9df"
      },
      "outputs": [
        {
          "output_type": "execute_result",
          "data": {
            "text/plain": [
              "{'dimension': 1536,\n",
              " 'index_fullness': 0.00014,\n",
              " 'namespaces': {'': {'vector_count': 14}},\n",
              " 'total_vector_count': 14}"
            ]
          },
          "metadata": {},
          "execution_count": 16
        }
      ],
      "source": [
        "index.describe_index_stats()"
      ]
    },
    {
      "cell_type": "markdown",
      "source": [
        "### Querying the data from the Vector DB"
      ],
      "metadata": {
        "id": "5jVjHUP9bTdz"
      }
    },
    {
      "cell_type": "markdown",
      "metadata": {
        "id": "QBSnHNIa2XYv"
      },
      "source": [
        "To use LangChain here we need to load the LangChain abstraction for a vector index, called a `vectorstore`. We pass in our vector `index` to initialize the object.\n",
        "(I am querying using the cosine similarity measure)."
      ]
    },
    {
      "cell_type": "code",
      "execution_count": 17,
      "metadata": {
        "colab": {
          "base_uri": "https://localhost:8080/"
        },
        "id": "Pm3Turb52XYv",
        "outputId": "7f110045-2659-455f-c7f2-840648c5db07"
      },
      "outputs": [
        {
          "output_type": "stream",
          "name": "stderr",
          "text": [
            "/usr/local/lib/python3.10/dist-packages/langchain_core/_api/deprecation.py:117: LangChainDeprecationWarning: The class `langchain_community.vectorstores.pinecone.Pinecone` was deprecated in langchain-community 0.0.18 and will be removed in 0.2.0. An updated version of the class exists in the langchain-pinecone package and should be used instead. To use it run `pip install -U langchain-pinecone` and import as `from langchain_pinecone import Pinecone`.\n",
            "  warn_deprecated(\n",
            "/usr/local/lib/python3.10/dist-packages/langchain_community/vectorstores/pinecone.py:68: UserWarning: Passing in `embedding` as a Callable is deprecated. Please pass in an Embeddings object instead.\n",
            "  warnings.warn(\n"
          ]
        }
      ],
      "source": [
        "from langchain.vectorstores import Pinecone\n",
        "\n",
        "text_field = \"text\"  # the metadata field that contains our text\n",
        "\n",
        "# initialize the vector store object\n",
        "vectorstore = Pinecone(\n",
        "    index, embed_model.embed_query, text_field\n",
        ")"
      ]
    },
    {
      "cell_type": "markdown",
      "metadata": {
        "id": "HywAB1DL2XYw"
      },
      "source": [
        "Using this `vectorstore` we can already query the index and see if we have any relevant information given our question about Yardstick AI."
      ]
    },
    {
      "cell_type": "code",
      "source": [
        "query =\" What is Yardstick AI? \""
      ],
      "metadata": {
        "id": "M-jrP-vpbjkI"
      },
      "execution_count": 18,
      "outputs": []
    },
    {
      "cell_type": "code",
      "execution_count": 19,
      "metadata": {
        "id": "wwRx7jrU2XYz"
      },
      "outputs": [],
      "source": [
        "def augment_prompt(query: str):\n",
        "    # get top 3 results from knowledge base\n",
        "    results = vectorstore.similarity_search(query, k=3)\n",
        "    # get the text from the results\n",
        "    source_knowledge = \"\\n\".join([x.page_content for x in results])\n",
        "    # feed into an augmented prompt\n",
        "    augmented_prompt = f\"\"\"Using the contexts below, answer the query.\n",
        "\n",
        "    Contexts:\n",
        "    {source_knowledge}\n",
        "\n",
        "    Query: {query}\"\"\"\n",
        "    return augmented_prompt"
      ]
    },
    {
      "cell_type": "markdown",
      "metadata": {
        "id": "0OLhqLve2XY0"
      },
      "source": [
        "Using this we produce an augmented prompt:"
      ]
    },
    {
      "cell_type": "code",
      "execution_count": 20,
      "metadata": {
        "colab": {
          "base_uri": "https://localhost:8080/"
        },
        "id": "CrIB4Qzh2XY0",
        "outputId": "938690a0-29a7-43ca-d184-1c4697d57b07"
      },
      "outputs": [
        {
          "output_type": "stream",
          "name": "stdout",
          "text": [
            "Using the contexts below, answer the query.\n",
            "\n",
            "    Contexts:\n",
            "    ck.live #about. Yardstick AIYardstick AIHomeAboutProjectAyodhaya GPTMagic SEOLive AI Sales CallChatBotBlogsContact UsWelcome to Tomorrow's Intelligence: Elevate with YardstickEmbark on a journey where the present meets the future—where AI brilliance unfolds effortlessly. At Yardstick, we're not just pioneers, we're architects of your AI excellence.Talk To UsExpert AI Services Tailored For Your BusinessWe leverage cutting-edge technology to create advanced frameworks that foster improved efficiency, better decision-making and redefine user interactions.AI IntegrationWe seamlessly integrate AI models into your existing systems to improve efficiency and propel business growth.Fine-TuningOur solutions are tailor-made to meet your specific needs and ensure optimal performance for your unique requirements.Advanced AnalyticsLeverage AI to gain valuable insights from your data and make better, data-driven decisions.Image GenerationUpgrade your visual content and drive creativity with our AI-powered image generation solutions.Speech AIOur advanced speech AI applications revolutionize the way you interact with your customers.Video GenerationUnlock endless possibilities for communication with our AI-driven video generation capabilities.About YardstickAt Yardstick, we're heralding a new dawn in AI innovation. With a skilled team and advanced AI solutions, we're transforming the way businesses operate.We pride ourselves on our commitment to excellence, and our dedication to pushing the frontiers of what AI can achieve.We provide a suite of AI services, from AI model integration and advanced analytics to image & video generation and speech AI.Our agile solutions are tailored to the needs of our clients, ensuring optimal performance and strategic advantage.Choose Yardstick and be a part of the future, where innovation meets excellence, and AI drives success.Project ShowcaseOur work speaks for itself. Check out a range of projects we've completed to help businesses harness the power of AI.ChatbotEnhance customer interactions with our advanced AI chatbots, delivering seamless support and personalized experiences for elevated engagement.Live AI Sales CallOptimize sales calls in real-time using AI insights, boosting conversion rates and staying ahead in the competitive market.Magic SEOBoost online visibility and drive growth with our expert-led Magic SEO services, ensuring your business stands out in search rankings.Ayodhya GPTImmerse in History with AyodhyaGPT, your guide to understanding and participating in the auspicious Pran Pratishta ceremony at Ayodhya.Get DirectionOur LocationBANGALORE, KARNATAKAEmail Addresscontact@yardstick.liveTelephone+917891053001Get in TouchHave a question or a project in mind? We're here to connect. Feel free to drop us a message and we'll get back to you as soon as possible.Your NameYour EmailYour RequirementsSendYardstick AIEmbark on a journey where the present meets the future where AI brilliance unfolds effortlessly. At Yardstick AI, we're not just pioneers; we're architects of your AI excellence.LinkHomeAboutProjectsBlogContact USCopyright 2024 | Yardstick AI | All rights reserved.\n",
            "ck.live . Yardstick AIYardstick AIHomeAboutProjectAyodhaya GPTMagic SEOLive AI Sales CallChatBotBlogsContact UsWelcome to Tomorrow's Intelligence: Elevate with YardstickEmbark on a journey where the present meets the future—where AI brilliance unfolds effortlessly. At Yardstick, we're not just pioneers, we're architects of your AI excellence.Talk To UsExpert AI Services Tailored For Your BusinessWe leverage cutting-edge technology to create advanced frameworks that foster improved efficiency, better decision-making and redefine user interactions.AI IntegrationWe seamlessly integrate AI models into your existing systems to improve efficiency and propel business growth.Fine-TuningOur solutions are tailor-made to meet your specific needs and ensure optimal performance for your unique requirements.Advanced AnalyticsLeverage AI to gain valuable insights from your data and make better, data-driven decisions.Image GenerationUpgrade your visual content and drive creativity with our AI-powered image generation solutions.Speech AIOur advanced speech AI applications revolutionize the way you interact with your customers.Video GenerationUnlock endless possibilities for communication with our AI-driven video generation capabilities.About YardstickAt Yardstick, we're heralding a new dawn in AI innovation. With a skilled team and advanced AI solutions, we're transforming the way businesses operate.We pride ourselves on our commitment to excellence, and our dedication to pushing the frontiers of what AI can achieve.We provide a suite of AI services, from AI model integration and advanced analytics to image & video generation and speech AI.Our agile solutions are tailored to the needs of our clients, ensuring optimal performance and strategic advantage.Choose Yardstick and be a part of the future, where innovation meets excellence, and AI drives success.Project ShowcaseOur work speaks for itself. Check out a range of projects we've completed to help businesses harness the power of AI.ChatbotEnhance customer interactions with our advanced AI chatbots, delivering seamless support and personalized experiences for elevated engagement.Live AI Sales CallOptimize sales calls in real-time using AI insights, boosting conversion rates and staying ahead in the competitive market.Magic SEOBoost online visibility and drive growth with our expert-led Magic SEO services, ensuring your business stands out in search rankings.Ayodhya GPTImmerse in History with AyodhyaGPT, your guide to understanding and participating in the auspicious Pran Pratishta ceremony at Ayodhya.Get DirectionOur LocationBANGALORE, KARNATAKAEmail Addresscontact@yardstick.liveTelephone+917891053001Get in TouchHave a question or a project in mind? We're here to connect. Feel free to drop us a message and we'll get back to you as soon as possible.Your NameYour EmailYour RequirementsSendYardstick AIEmbark on a journey where the present meets the future where AI brilliance unfolds effortlessly. At Yardstick AI, we're not just pioneers; we're architects of your AI excellence.LinkHomeAboutProjectsBlogContact USCopyright 2024 | Yardstick AI | All rights reserved.\n",
            "ck.live #projects. Yardstick AIYardstick AIHomeAboutProjectAyodhaya GPTMagic SEOLive AI Sales CallChatBotBlogsContact UsWelcome to Tomorrow's Intelligence: Elevate with YardstickEmbark on a journey where the present meets the future—where AI brilliance unfolds effortlessly. At Yardstick, we're not just pioneers, we're architects of your AI excellence.Talk To UsExpert AI Services Tailored For Your BusinessWe leverage cutting-edge technology to create advanced frameworks that foster improved efficiency, better decision-making and redefine user interactions.AI IntegrationWe seamlessly integrate AI models into your existing systems to improve efficiency and propel business growth.Fine-TuningOur solutions are tailor-made to meet your specific needs and ensure optimal performance for your unique requirements.Advanced AnalyticsLeverage AI to gain valuable insights from your data and make better, data-driven decisions.Image GenerationUpgrade your visual content and drive creativity with our AI-powered image generation solutions.Speech AIOur advanced speech AI applications revolutionize the way you interact with your customers.Video GenerationUnlock endless possibilities for communication with our AI-driven video generation capabilities.About YardstickAt Yardstick, we're heralding a new dawn in AI innovation. With a skilled team and advanced AI solutions, we're transforming the way businesses operate.We pride ourselves on our commitment to excellence, and our dedication to pushing the frontiers of what AI can achieve.We provide a suite of AI services, from AI model integration and advanced analytics to image & video generation and speech AI.Our agile solutions are tailored to the needs of our clients, ensuring optimal performance and strategic advantage.Choose Yardstick and be a part of the future, where innovation meets excellence, and AI drives success.Project ShowcaseOur work speaks for itself. Check out a range of projects we've completed to help businesses harness the power of AI.ChatbotEnhance customer interactions with our advanced AI chatbots, delivering seamless support and personalized experiences for elevated engagement.Live AI Sales CallOptimize sales calls in real-time using AI insights, boosting conversion rates and staying ahead in the competitive market.Magic SEOBoost online visibility and drive growth with our expert-led Magic SEO services, ensuring your business stands out in search rankings.Ayodhya GPTImmerse in History with AyodhyaGPT, your guide to understanding and participating in the auspicious Pran Pratishta ceremony at Ayodhya.Get DirectionOur LocationBANGALORE, KARNATAKAEmail Addresscontact@yardstick.liveTelephone+917891053001Get in TouchHave a question or a project in mind? We're here to connect. Feel free to drop us a message and we'll get back to you as soon as possible.Your NameYour EmailYour RequirementsSendYardstick AIEmbark on a journey where the present meets the future where AI brilliance unfolds effortlessly. At Yardstick AI, we're not just pioneers; we're architects of your AI excellence.LinkHomeAboutProjectsBlogContact USCopyright 2024 | Yardstick AI | All rights reserved.\n",
            "\n",
            "    Query:  What is Yardstick AI? \n"
          ]
        }
      ],
      "source": [
        "print(augment_prompt(query))"
      ]
    },
    {
      "cell_type": "markdown",
      "metadata": {
        "id": "0Wwa6orp2XY0"
      },
      "source": [
        "There is a lot of text here, so let's pass it onto our chat model to see how it performs."
      ]
    },
    {
      "cell_type": "code",
      "source": [
        "# create a new user prompt\n",
        "prompt = HumanMessage(\n",
        "    content=augment_prompt(query)\n",
        ")\n",
        "# add to messages\n",
        "messages.append(prompt)\n",
        "\n",
        "res = chat(messages)\n",
        "\n",
        "print(res.content)"
      ],
      "metadata": {
        "colab": {
          "base_uri": "https://localhost:8080/"
        },
        "id": "5eajdtK8cAoG",
        "outputId": "6e155f89-263a-45e4-bf27-c8f9147689ac"
      },
      "execution_count": 21,
      "outputs": [
        {
          "output_type": "stream",
          "name": "stdout",
          "text": [
            "Yardstick AI is a company that heralds a new dawn in AI innovation. They have a skilled team and advanced AI solutions that are transforming the way businesses operate. They pride themselves on their commitment to excellence and dedication to pushing the frontiers of what AI can achieve. Yardstick provides a suite of AI services, including AI model integration, advanced analytics, image and video generation, and speech AI. Their agile solutions are tailored to the needs of their clients, ensuring optimal performance and strategic advantage. If you choose Yardstick, you will be part of a future where innovation meets excellence, and AI drives success.\n"
          ]
        }
      ]
    },
    {
      "cell_type": "markdown",
      "source": [
        "Now, the model is trained so it is able to produce the relevent information about Yardstick AI"
      ],
      "metadata": {
        "id": "qw68j5e2cEov"
      }
    },
    {
      "cell_type": "markdown",
      "source": [
        "Let us ask another general question by a user who is using the service of Yardstick AI and has to get in touch with customer service of Yardstick AI."
      ],
      "metadata": {
        "id": "ypvgLdPBcSKR"
      }
    },
    {
      "cell_type": "code",
      "source": [
        "query=\" How to get in touch with the customer service of Yardstick AI?\""
      ],
      "metadata": {
        "id": "IN9LaXC_clAk"
      },
      "execution_count": 22,
      "outputs": []
    },
    {
      "cell_type": "code",
      "execution_count": 23,
      "metadata": {
        "colab": {
          "base_uri": "https://localhost:8080/"
        },
        "id": "nOmjWWSm2XY0",
        "outputId": "9a7e732a-1909-4f9b-d2b3-fca737f071c7"
      },
      "outputs": [
        {
          "output_type": "stream",
          "name": "stdout",
          "text": [
            "To get in touch with the customer service of Yardstick AI, you can send them a message through their contact form on their website. You can find the contact form on the \"Contact Us\" page of the Yardstick AI website. Simply fill in your name, email address, and requirements, and they will get back to you as soon as possible. You can also reach them via email at contact@yardstick.live or call them at +917891053001.\n"
          ]
        }
      ],
      "source": [
        "# create a new user prompt\n",
        "prompt = HumanMessage(\n",
        "    content=augment_prompt(query)\n",
        ")\n",
        "# add to messages\n",
        "messages.append(prompt)\n",
        "\n",
        "res = chat(messages)\n",
        "\n",
        "print(res.content)"
      ]
    },
    {
      "cell_type": "markdown",
      "source": [
        "It is able to clearly provide the information to connect with the customer Support of Yardstick AI"
      ],
      "metadata": {
        "id": "hV7iERJBdARy"
      }
    },
    {
      "cell_type": "code",
      "execution_count": null,
      "metadata": {
        "id": "nXDlpFM82XY2"
      },
      "outputs": [],
      "source": [
        "pc.delete_index(index_name)"
      ]
    },
    {
      "cell_type": "markdown",
      "metadata": {
        "id": "nWNpi2gn2XY2"
      },
      "source": [
        "---"
      ]
    }
  ],
  "metadata": {
    "kernelspec": {
      "display_name": "redacre",
      "language": "python",
      "name": "python3"
    },
    "language_info": {
      "codemirror_mode": {
        "name": "ipython",
        "version": 3
      },
      "file_extension": ".py",
      "mimetype": "text/x-python",
      "name": "python",
      "nbconvert_exporter": "python",
      "pygments_lexer": "ipython3",
      "version": "3.9.12"
    },
    "orig_nbformat": 4,
    "colab": {
      "provenance": [],
      "toc_visible": true
    },
    "widgets": {
      "application/vnd.jupyter.widget-state+json": {
        "f132d0b0e0244dc7b2682283a238a3b9": {
          "model_module": "@jupyter-widgets/controls",
          "model_name": "HBoxModel",
          "model_module_version": "1.5.0",
          "state": {
            "_dom_classes": [],
            "_model_module": "@jupyter-widgets/controls",
            "_model_module_version": "1.5.0",
            "_model_name": "HBoxModel",
            "_view_count": null,
            "_view_module": "@jupyter-widgets/controls",
            "_view_module_version": "1.5.0",
            "_view_name": "HBoxView",
            "box_style": "",
            "children": [
              "IPY_MODEL_e192b1d06e6444779fee57511c020f73",
              "IPY_MODEL_234dde3d2a4548f287c7750d20a5a1dc",
              "IPY_MODEL_d4f5f6644ac6451f85c0174808e63903"
            ],
            "layout": "IPY_MODEL_4d7e3b0fcd53475a8f3c388f8f4762e9"
          }
        },
        "e192b1d06e6444779fee57511c020f73": {
          "model_module": "@jupyter-widgets/controls",
          "model_name": "HTMLModel",
          "model_module_version": "1.5.0",
          "state": {
            "_dom_classes": [],
            "_model_module": "@jupyter-widgets/controls",
            "_model_module_version": "1.5.0",
            "_model_name": "HTMLModel",
            "_view_count": null,
            "_view_module": "@jupyter-widgets/controls",
            "_view_module_version": "1.5.0",
            "_view_name": "HTMLView",
            "description": "",
            "description_tooltip": null,
            "layout": "IPY_MODEL_be23c02da53e4d479ac8d8b8f52a0fcf",
            "placeholder": "​",
            "style": "IPY_MODEL_d2aecfcf25f14898b8bfee1f5cb6dda0",
            "value": "100%"
          }
        },
        "234dde3d2a4548f287c7750d20a5a1dc": {
          "model_module": "@jupyter-widgets/controls",
          "model_name": "FloatProgressModel",
          "model_module_version": "1.5.0",
          "state": {
            "_dom_classes": [],
            "_model_module": "@jupyter-widgets/controls",
            "_model_module_version": "1.5.0",
            "_model_name": "FloatProgressModel",
            "_view_count": null,
            "_view_module": "@jupyter-widgets/controls",
            "_view_module_version": "1.5.0",
            "_view_name": "ProgressView",
            "bar_style": "success",
            "description": "",
            "description_tooltip": null,
            "layout": "IPY_MODEL_9a5a864a27094facad10d76c851b3ded",
            "max": 14,
            "min": 0,
            "orientation": "horizontal",
            "style": "IPY_MODEL_d588b64f63d1424788770252ae4a207e",
            "value": 14
          }
        },
        "d4f5f6644ac6451f85c0174808e63903": {
          "model_module": "@jupyter-widgets/controls",
          "model_name": "HTMLModel",
          "model_module_version": "1.5.0",
          "state": {
            "_dom_classes": [],
            "_model_module": "@jupyter-widgets/controls",
            "_model_module_version": "1.5.0",
            "_model_name": "HTMLModel",
            "_view_count": null,
            "_view_module": "@jupyter-widgets/controls",
            "_view_module_version": "1.5.0",
            "_view_name": "HTMLView",
            "description": "",
            "description_tooltip": null,
            "layout": "IPY_MODEL_a56cf15bc3924dca9650a05615df46bd",
            "placeholder": "​",
            "style": "IPY_MODEL_e79104542fbd4a878a6934dede9c737b",
            "value": " 14/14 [03:58&lt;00:00, 21.05s/it]"
          }
        },
        "4d7e3b0fcd53475a8f3c388f8f4762e9": {
          "model_module": "@jupyter-widgets/base",
          "model_name": "LayoutModel",
          "model_module_version": "1.2.0",
          "state": {
            "_model_module": "@jupyter-widgets/base",
            "_model_module_version": "1.2.0",
            "_model_name": "LayoutModel",
            "_view_count": null,
            "_view_module": "@jupyter-widgets/base",
            "_view_module_version": "1.2.0",
            "_view_name": "LayoutView",
            "align_content": null,
            "align_items": null,
            "align_self": null,
            "border": null,
            "bottom": null,
            "display": null,
            "flex": null,
            "flex_flow": null,
            "grid_area": null,
            "grid_auto_columns": null,
            "grid_auto_flow": null,
            "grid_auto_rows": null,
            "grid_column": null,
            "grid_gap": null,
            "grid_row": null,
            "grid_template_areas": null,
            "grid_template_columns": null,
            "grid_template_rows": null,
            "height": null,
            "justify_content": null,
            "justify_items": null,
            "left": null,
            "margin": null,
            "max_height": null,
            "max_width": null,
            "min_height": null,
            "min_width": null,
            "object_fit": null,
            "object_position": null,
            "order": null,
            "overflow": null,
            "overflow_x": null,
            "overflow_y": null,
            "padding": null,
            "right": null,
            "top": null,
            "visibility": null,
            "width": null
          }
        },
        "be23c02da53e4d479ac8d8b8f52a0fcf": {
          "model_module": "@jupyter-widgets/base",
          "model_name": "LayoutModel",
          "model_module_version": "1.2.0",
          "state": {
            "_model_module": "@jupyter-widgets/base",
            "_model_module_version": "1.2.0",
            "_model_name": "LayoutModel",
            "_view_count": null,
            "_view_module": "@jupyter-widgets/base",
            "_view_module_version": "1.2.0",
            "_view_name": "LayoutView",
            "align_content": null,
            "align_items": null,
            "align_self": null,
            "border": null,
            "bottom": null,
            "display": null,
            "flex": null,
            "flex_flow": null,
            "grid_area": null,
            "grid_auto_columns": null,
            "grid_auto_flow": null,
            "grid_auto_rows": null,
            "grid_column": null,
            "grid_gap": null,
            "grid_row": null,
            "grid_template_areas": null,
            "grid_template_columns": null,
            "grid_template_rows": null,
            "height": null,
            "justify_content": null,
            "justify_items": null,
            "left": null,
            "margin": null,
            "max_height": null,
            "max_width": null,
            "min_height": null,
            "min_width": null,
            "object_fit": null,
            "object_position": null,
            "order": null,
            "overflow": null,
            "overflow_x": null,
            "overflow_y": null,
            "padding": null,
            "right": null,
            "top": null,
            "visibility": null,
            "width": null
          }
        },
        "d2aecfcf25f14898b8bfee1f5cb6dda0": {
          "model_module": "@jupyter-widgets/controls",
          "model_name": "DescriptionStyleModel",
          "model_module_version": "1.5.0",
          "state": {
            "_model_module": "@jupyter-widgets/controls",
            "_model_module_version": "1.5.0",
            "_model_name": "DescriptionStyleModel",
            "_view_count": null,
            "_view_module": "@jupyter-widgets/base",
            "_view_module_version": "1.2.0",
            "_view_name": "StyleView",
            "description_width": ""
          }
        },
        "9a5a864a27094facad10d76c851b3ded": {
          "model_module": "@jupyter-widgets/base",
          "model_name": "LayoutModel",
          "model_module_version": "1.2.0",
          "state": {
            "_model_module": "@jupyter-widgets/base",
            "_model_module_version": "1.2.0",
            "_model_name": "LayoutModel",
            "_view_count": null,
            "_view_module": "@jupyter-widgets/base",
            "_view_module_version": "1.2.0",
            "_view_name": "LayoutView",
            "align_content": null,
            "align_items": null,
            "align_self": null,
            "border": null,
            "bottom": null,
            "display": null,
            "flex": null,
            "flex_flow": null,
            "grid_area": null,
            "grid_auto_columns": null,
            "grid_auto_flow": null,
            "grid_auto_rows": null,
            "grid_column": null,
            "grid_gap": null,
            "grid_row": null,
            "grid_template_areas": null,
            "grid_template_columns": null,
            "grid_template_rows": null,
            "height": null,
            "justify_content": null,
            "justify_items": null,
            "left": null,
            "margin": null,
            "max_height": null,
            "max_width": null,
            "min_height": null,
            "min_width": null,
            "object_fit": null,
            "object_position": null,
            "order": null,
            "overflow": null,
            "overflow_x": null,
            "overflow_y": null,
            "padding": null,
            "right": null,
            "top": null,
            "visibility": null,
            "width": null
          }
        },
        "d588b64f63d1424788770252ae4a207e": {
          "model_module": "@jupyter-widgets/controls",
          "model_name": "ProgressStyleModel",
          "model_module_version": "1.5.0",
          "state": {
            "_model_module": "@jupyter-widgets/controls",
            "_model_module_version": "1.5.0",
            "_model_name": "ProgressStyleModel",
            "_view_count": null,
            "_view_module": "@jupyter-widgets/base",
            "_view_module_version": "1.2.0",
            "_view_name": "StyleView",
            "bar_color": null,
            "description_width": ""
          }
        },
        "a56cf15bc3924dca9650a05615df46bd": {
          "model_module": "@jupyter-widgets/base",
          "model_name": "LayoutModel",
          "model_module_version": "1.2.0",
          "state": {
            "_model_module": "@jupyter-widgets/base",
            "_model_module_version": "1.2.0",
            "_model_name": "LayoutModel",
            "_view_count": null,
            "_view_module": "@jupyter-widgets/base",
            "_view_module_version": "1.2.0",
            "_view_name": "LayoutView",
            "align_content": null,
            "align_items": null,
            "align_self": null,
            "border": null,
            "bottom": null,
            "display": null,
            "flex": null,
            "flex_flow": null,
            "grid_area": null,
            "grid_auto_columns": null,
            "grid_auto_flow": null,
            "grid_auto_rows": null,
            "grid_column": null,
            "grid_gap": null,
            "grid_row": null,
            "grid_template_areas": null,
            "grid_template_columns": null,
            "grid_template_rows": null,
            "height": null,
            "justify_content": null,
            "justify_items": null,
            "left": null,
            "margin": null,
            "max_height": null,
            "max_width": null,
            "min_height": null,
            "min_width": null,
            "object_fit": null,
            "object_position": null,
            "order": null,
            "overflow": null,
            "overflow_x": null,
            "overflow_y": null,
            "padding": null,
            "right": null,
            "top": null,
            "visibility": null,
            "width": null
          }
        },
        "e79104542fbd4a878a6934dede9c737b": {
          "model_module": "@jupyter-widgets/controls",
          "model_name": "DescriptionStyleModel",
          "model_module_version": "1.5.0",
          "state": {
            "_model_module": "@jupyter-widgets/controls",
            "_model_module_version": "1.5.0",
            "_model_name": "DescriptionStyleModel",
            "_view_count": null,
            "_view_module": "@jupyter-widgets/base",
            "_view_module_version": "1.2.0",
            "_view_name": "StyleView",
            "description_width": ""
          }
        }
      }
    }
  },
  "nbformat": 4,
  "nbformat_minor": 0
}